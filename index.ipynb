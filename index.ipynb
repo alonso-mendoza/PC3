{
 "cells": [
  {
   "cell_type": "markdown",
   "metadata": {
    "id": "BaW75wzJDtK6"
   },
   "source": [
    "1. Download these data:\n",
    "* https://www.cia.gov/the-world-factbook/field/reserves-of-foreign-exchange-and-gold/country-comparison/\n",
    "* https://www.cia.gov/the-world-factbook/field/energy-consumption-per-capita/country-comparison/\n",
    "* https://www.cia.gov/the-world-factbook/field/electricity/country-comparison/\n",
    "* https://www.cia.gov/the-world-factbook/field/education-expenditures/country-comparison/"
   ]
  },
  {
   "cell_type": "markdown",
   "metadata": {
    "id": "PJ2ynOZwEXGa"
   },
   "source": [
    "2. Clean and format the data frames as needed"
   ]
  },
  {
   "cell_type": "markdown",
   "metadata": {
    "id": "B1V1WadVEfiQ"
   },
   "source": [
    "3. Combine those dataframes into one. Decision: what to do to keep as many cases as possible."
   ]
  },
  {
   "cell_type": "markdown",
   "metadata": {
    "id": "Z1qZztCcExn5"
   },
   "source": [
    "4. Report the average, min and max for the variables (reserves, energy, electricity. education) by region.\n",
    "5. Create new columns for each variable , so that they are in 5 intervals. Choose the same methods for the four variables. Two decisiones here.\n",
    "\n",
    "6. Save the final result: country, region and the eight variables."
   ]
  },
  {
   "cell_type": "markdown",
   "metadata": {
    "id": "5fzrgE6VFfYj"
   },
   "source": [
    "Rubric:\n",
    "1. 10 points off if you do not use GitHub at all.\n",
    "2. 5 points off if your code is not publiched using GitHub pages\n",
    "3. 5 points of if your code is disorganized: should look like a tutorial, erase code not neeeded.\n",
    "4. 3 points off for each decision poor decision.\n",
    "5. 3 points off if README of repository does not explain what the repo is for.\n",
    "6. 5 points off if final file NOT saved on GitHub\n",
    "7. 3 points off for every variable not well formatted.\n",
    "8. 3 points off if statisticas by region not computed.\n",
    "9. 1 point off for each column still present which is not needed."
   ]
  },
  {
   "cell_type": "markdown",
   "metadata": {
    "id": "75ob_UhAFe0z"
   },
   "source": [
    "1. CARGAR LA DATA"
   ]
  },
  {
   "cell_type": "code",
   "execution_count": 1,
   "metadata": {
    "id": "OxPK3VEtuzY1"
   },
   "outputs": [],
   "source": [
    "# Establecemos las URLs directas a los archivos CSV alojados en el repositorio de GitHub\n",
    "reservesLink = 'https://github.com/alonso-mendoza/PC3/raw/refs/heads/main/Reserves.csv'\n",
    "energyLink = 'https://github.com/alonso-mendoza/PC3/raw/refs/heads/main/Energy.csv'\n",
    "electricityLink = 'https://github.com/alonso-mendoza/PC3/raw/refs/heads/main/Electricity.csv'\n",
    "educationLink = 'https://github.com/alonso-mendoza/PC3/raw/refs/heads/main/Education.csv'\n",
    "\n",
    "# Cargamos cada archivo CSV desde su URL directamente en un DataFrame\n",
    "import pandas as pd\n",
    "\n",
    "reserves = pd.read_csv(reservesLink,header=0)\n",
    "energy = pd.read_csv(energyLink,header=0)\n",
    "electricity = pd.read_csv(electricityLink,header=0)\n",
    "education = pd.read_csv(educationLink,header=0)"
   ]
  },
  {
   "cell_type": "markdown",
   "metadata": {
    "id": "p_LtnhQLXWAF"
   },
   "source": [
    "2. LIMPIEZA Y FORMATEO DE DATA"
   ]
  },
  {
   "cell_type": "markdown",
   "metadata": {
    "id": "grjEUeoIp0os"
   },
   "source": [
    "RESERVES"
   ]
  },
  {
   "cell_type": "code",
   "execution_count": 2,
   "metadata": {
    "colab": {
     "base_uri": "https://localhost:8080/"
    },
    "id": "iW1vaRLoRZTU",
    "outputId": "84ec3592-4b8b-40cb-f3a8-90ca4e362320"
   },
   "outputs": [
    {
     "name": "stdout",
     "output_type": "stream",
     "text": [
      "<class 'pandas.core.frame.DataFrame'>\n",
      "RangeIndex: 195 entries, 0 to 194\n",
      "Data columns (total 6 columns):\n",
      " #   Column               Non-Null Count  Dtype \n",
      "---  ------               --------------  ----- \n",
      " 0   name                 195 non-null    object\n",
      " 1   slug                 195 non-null    object\n",
      " 2   value                195 non-null    object\n",
      " 3   date_of_information  195 non-null    int64 \n",
      " 4   ranking              195 non-null    int64 \n",
      " 5   region               195 non-null    object\n",
      "dtypes: int64(2), object(4)\n",
      "memory usage: 9.3+ KB\n"
     ]
    }
   ],
   "source": [
    "# Primero revisamos que información tenemos\n",
    "reserves.info()\n",
    "\n",
    "# Tenemos 6 columnas con ningún valor nulo"
   ]
  },
  {
   "cell_type": "code",
   "execution_count": 3,
   "metadata": {
    "colab": {
     "base_uri": "https://localhost:8080/",
     "height": 206
    },
    "id": "j0iFfnYOPknl",
    "outputId": "90db0175-e141-4416-9c7f-7eeb06abe567"
   },
   "outputs": [
    {
     "data": {
      "text/html": [
       "<div>\n",
       "<style scoped>\n",
       "    .dataframe tbody tr th:only-of-type {\n",
       "        vertical-align: middle;\n",
       "    }\n",
       "\n",
       "    .dataframe tbody tr th {\n",
       "        vertical-align: top;\n",
       "    }\n",
       "\n",
       "    .dataframe thead th {\n",
       "        text-align: right;\n",
       "    }\n",
       "</style>\n",
       "<table border=\"1\" class=\"dataframe\">\n",
       "  <thead>\n",
       "    <tr style=\"text-align: right;\">\n",
       "      <th></th>\n",
       "      <th>name</th>\n",
       "      <th>slug</th>\n",
       "      <th>value</th>\n",
       "      <th>date_of_information</th>\n",
       "      <th>ranking</th>\n",
       "      <th>region</th>\n",
       "    </tr>\n",
       "  </thead>\n",
       "  <tbody>\n",
       "    <tr>\n",
       "      <th>0</th>\n",
       "      <td>China</td>\n",
       "      <td>china</td>\n",
       "      <td>$3,265,000,000,000</td>\n",
       "      <td>2024</td>\n",
       "      <td>1</td>\n",
       "      <td>East and Southeast Asia</td>\n",
       "    </tr>\n",
       "    <tr>\n",
       "      <th>1</th>\n",
       "      <td>Japan</td>\n",
       "      <td>japan</td>\n",
       "      <td>$1,160,000,000,000</td>\n",
       "      <td>2024</td>\n",
       "      <td>2</td>\n",
       "      <td>East and Southeast Asia</td>\n",
       "    </tr>\n",
       "    <tr>\n",
       "      <th>2</th>\n",
       "      <td>Switzerland</td>\n",
       "      <td>switzerland</td>\n",
       "      <td>$822,130,000,000</td>\n",
       "      <td>2024</td>\n",
       "      <td>3</td>\n",
       "      <td>Europe</td>\n",
       "    </tr>\n",
       "    <tr>\n",
       "      <th>3</th>\n",
       "      <td>Russia</td>\n",
       "      <td>russia</td>\n",
       "      <td>$597,217,000,000</td>\n",
       "      <td>2023</td>\n",
       "      <td>4</td>\n",
       "      <td>Central Asia</td>\n",
       "    </tr>\n",
       "    <tr>\n",
       "      <th>4</th>\n",
       "      <td>India</td>\n",
       "      <td>india</td>\n",
       "      <td>$569,544,000,000</td>\n",
       "      <td>2024</td>\n",
       "      <td>5</td>\n",
       "      <td>South Asia</td>\n",
       "    </tr>\n",
       "  </tbody>\n",
       "</table>\n",
       "</div>"
      ],
      "text/plain": [
       "          name         slug               value  date_of_information  ranking  \\\n",
       "0        China        china  $3,265,000,000,000                 2024        1   \n",
       "1        Japan        japan  $1,160,000,000,000                 2024        2   \n",
       "2  Switzerland  switzerland    $822,130,000,000                 2024        3   \n",
       "3       Russia       russia    $597,217,000,000                 2023        4   \n",
       "4        India        india    $569,544,000,000                 2024        5   \n",
       "\n",
       "                    region  \n",
       "0  East and Southeast Asia  \n",
       "1  East and Southeast Asia  \n",
       "2                   Europe  \n",
       "3             Central Asia  \n",
       "4               South Asia  "
      ]
     },
     "execution_count": 3,
     "metadata": {},
     "output_type": "execute_result"
    }
   ],
   "source": [
    "# Revisamos las primeras filas\n",
    "reserves.head()\n",
    "\n",
    "# Notamos que la columna 'value' no es reconocida como un tipo númerico"
   ]
  },
  {
   "cell_type": "code",
   "execution_count": 4,
   "metadata": {
    "id": "VN2ddxcwVkhd"
   },
   "outputs": [],
   "source": [
    "# Eliminamos las columnas innecesarias (índices 1, 3 y 4)\n",
    "reserves = reserves.drop(reserves.columns[[1, 3, 4]], axis=1)"
   ]
  },
  {
   "cell_type": "code",
   "execution_count": 5,
   "metadata": {
    "id": "D1Y98I5dP3eq"
   },
   "outputs": [],
   "source": [
    "# Renombramos las columnas 'name' y 'value'\n",
    "reserves.rename(columns={ reserves.columns[1]: \"Reserves\" }, inplace = True)\n",
    "reserves.rename(columns={ reserves.columns[0]: \"Country\" }, inplace = True)"
   ]
  },
  {
   "cell_type": "code",
   "execution_count": 6,
   "metadata": {
    "colab": {
     "base_uri": "https://localhost:8080/",
     "height": 89
    },
    "id": "aVI7DHxbQggp",
    "outputId": "ef3e4f82-b97e-424e-9d56-864c82d72ad6"
   },
   "outputs": [
    {
     "data": {
      "text/html": [
       "<div>\n",
       "<style scoped>\n",
       "    .dataframe tbody tr th:only-of-type {\n",
       "        vertical-align: middle;\n",
       "    }\n",
       "\n",
       "    .dataframe tbody tr th {\n",
       "        vertical-align: top;\n",
       "    }\n",
       "\n",
       "    .dataframe thead th {\n",
       "        text-align: right;\n",
       "    }\n",
       "</style>\n",
       "<table border=\"1\" class=\"dataframe\">\n",
       "  <thead>\n",
       "    <tr style=\"text-align: right;\">\n",
       "      <th></th>\n",
       "      <th>Country</th>\n",
       "      <th>Reserves</th>\n",
       "      <th>region</th>\n",
       "    </tr>\n",
       "  </thead>\n",
       "  <tbody>\n",
       "  </tbody>\n",
       "</table>\n",
       "</div>"
      ],
      "text/plain": [
       "Empty DataFrame\n",
       "Columns: [Country, Reserves, region]\n",
       "Index: []"
      ]
     },
     "metadata": {},
     "output_type": "display_data"
    }
   ],
   "source": [
    "# Vamos a revisar que la data este completa\n",
    "Filasvacias=reserves[reserves['Reserves'].isnull()]\n",
    "\n",
    "display(Filasvacias)\n",
    "\n",
    "# Significa que la data está completa"
   ]
  },
  {
   "cell_type": "code",
   "execution_count": 7,
   "metadata": {
    "colab": {
     "base_uri": "https://localhost:8080/"
    },
    "id": "VEP8dBJRRqT6",
    "outputId": "a4c2a1e1-25da-421d-8f39-6a85be8e84ef"
   },
   "outputs": [
    {
     "name": "stdout",
     "output_type": "stream",
     "text": [
      "Requirement already satisfied: unidecode in c:\\users\\omen\\anaconda3\\envs\\dataespacial_311\\lib\\site-packages (1.3.8)\n"
     ]
    }
   ],
   "source": [
    "!pip install unidecode"
   ]
  },
  {
   "cell_type": "code",
   "execution_count": 8,
   "metadata": {
    "id": "MHuWNJh0Rsi6"
   },
   "outputs": [],
   "source": [
    "# Solo queremos datos del ASCII\n",
    "from unidecode import unidecode\n",
    "\n",
    "reserves['Country']=reserves.Country.apply(unidecode)\n",
    "reserves['region']=reserves.region.apply(unidecode)"
   ]
  },
  {
   "cell_type": "code",
   "execution_count": 9,
   "metadata": {
    "id": "NJdM9iNEF-oH"
   },
   "outputs": [],
   "source": [
    "# Eliminamos elementos que no son números por espacios vacios\n",
    "reserves['Reserves'] = reserves['Reserves'].str.replace(pat=r'[^\\d.]', repl='', regex=True)"
   ]
  },
  {
   "cell_type": "code",
   "execution_count": 10,
   "metadata": {
    "id": "k-g3TygsWHmo"
   },
   "outputs": [],
   "source": [
    "# Transformamos las variables a numéricas con pandas, ya que no se encontraron errores en la data\n",
    "reserves['Reserves']=pd.to_numeric(reserves.Reserves)"
   ]
  },
  {
   "cell_type": "code",
   "execution_count": 11,
   "metadata": {
    "colab": {
     "base_uri": "https://localhost:8080/"
    },
    "id": "ijCebB74WMMh",
    "outputId": "f87f0d80-3ddd-49d9-a07e-a098f2788d8b"
   },
   "outputs": [
    {
     "name": "stdout",
     "output_type": "stream",
     "text": [
      "<class 'pandas.core.frame.DataFrame'>\n",
      "RangeIndex: 195 entries, 0 to 194\n",
      "Data columns (total 3 columns):\n",
      " #   Column    Non-Null Count  Dtype \n",
      "---  ------    --------------  ----- \n",
      " 0   Country   195 non-null    object\n",
      " 1   Reserves  195 non-null    int64 \n",
      " 2   region    195 non-null    object\n",
      "dtypes: int64(1), object(2)\n",
      "memory usage: 4.7+ KB\n"
     ]
    }
   ],
   "source": [
    "# Revisamos la info del DataFrame luego de limpiar\n",
    "reserves.info()"
   ]
  },
  {
   "cell_type": "code",
   "execution_count": 12,
   "metadata": {
    "colab": {
     "base_uri": "https://localhost:8080/",
     "height": 206
    },
    "id": "NLeiEL0bOMte",
    "outputId": "53d3baa0-b3a4-4b3f-9142-3b1adfd81cf7"
   },
   "outputs": [
    {
     "data": {
      "text/html": [
       "<div>\n",
       "<style scoped>\n",
       "    .dataframe tbody tr th:only-of-type {\n",
       "        vertical-align: middle;\n",
       "    }\n",
       "\n",
       "    .dataframe tbody tr th {\n",
       "        vertical-align: top;\n",
       "    }\n",
       "\n",
       "    .dataframe thead th {\n",
       "        text-align: right;\n",
       "    }\n",
       "</style>\n",
       "<table border=\"1\" class=\"dataframe\">\n",
       "  <thead>\n",
       "    <tr style=\"text-align: right;\">\n",
       "      <th></th>\n",
       "      <th>Country</th>\n",
       "      <th>Reserves</th>\n",
       "      <th>region</th>\n",
       "    </tr>\n",
       "  </thead>\n",
       "  <tbody>\n",
       "    <tr>\n",
       "      <th>0</th>\n",
       "      <td>China</td>\n",
       "      <td>3265000000000</td>\n",
       "      <td>East and Southeast Asia</td>\n",
       "    </tr>\n",
       "    <tr>\n",
       "      <th>1</th>\n",
       "      <td>Japan</td>\n",
       "      <td>1160000000000</td>\n",
       "      <td>East and Southeast Asia</td>\n",
       "    </tr>\n",
       "    <tr>\n",
       "      <th>2</th>\n",
       "      <td>Switzerland</td>\n",
       "      <td>822130000000</td>\n",
       "      <td>Europe</td>\n",
       "    </tr>\n",
       "    <tr>\n",
       "      <th>3</th>\n",
       "      <td>Russia</td>\n",
       "      <td>597217000000</td>\n",
       "      <td>Central Asia</td>\n",
       "    </tr>\n",
       "    <tr>\n",
       "      <th>4</th>\n",
       "      <td>India</td>\n",
       "      <td>569544000000</td>\n",
       "      <td>South Asia</td>\n",
       "    </tr>\n",
       "  </tbody>\n",
       "</table>\n",
       "</div>"
      ],
      "text/plain": [
       "       Country       Reserves                   region\n",
       "0        China  3265000000000  East and Southeast Asia\n",
       "1        Japan  1160000000000  East and Southeast Asia\n",
       "2  Switzerland   822130000000                   Europe\n",
       "3       Russia   597217000000             Central Asia\n",
       "4        India   569544000000               South Asia"
      ]
     },
     "execution_count": 12,
     "metadata": {},
     "output_type": "execute_result"
    }
   ],
   "source": [
    "# Vemos como ahora se ven las nuevas filas\n",
    "reserves.head()\n",
    "\n",
    "# Todo se ve correcto, continuamos con la limpieza de energy"
   ]
  },
  {
   "cell_type": "markdown",
   "metadata": {
    "id": "tHSEY2zcw7go"
   },
   "source": [
    "ENERGY"
   ]
  },
  {
   "cell_type": "code",
   "execution_count": 13,
   "metadata": {
    "colab": {
     "base_uri": "https://localhost:8080/"
    },
    "id": "oHiuQQlrXb-y",
    "outputId": "ba5663e6-700c-4db6-d780-1bdf1868eec3"
   },
   "outputs": [
    {
     "name": "stdout",
     "output_type": "stream",
     "text": [
      "<class 'pandas.core.frame.DataFrame'>\n",
      "RangeIndex: 195 entries, 0 to 194\n",
      "Data columns (total 6 columns):\n",
      " #   Column               Non-Null Count  Dtype \n",
      "---  ------               --------------  ----- \n",
      " 0   name                 195 non-null    object\n",
      " 1   slug                 195 non-null    object\n",
      " 2    Btu/person          195 non-null    object\n",
      " 3   date_of_information  195 non-null    int64 \n",
      " 4   ranking              195 non-null    int64 \n",
      " 5   region               195 non-null    object\n",
      "dtypes: int64(2), object(4)\n",
      "memory usage: 9.3+ KB\n"
     ]
    }
   ],
   "source": [
    "# Checkeamos que información tenemos\n",
    "energy.info()\n",
    "\n",
    "# Otra vez tenemos 6 columnas con ningún valor nulo"
   ]
  },
  {
   "cell_type": "code",
   "execution_count": 14,
   "metadata": {
    "colab": {
     "base_uri": "https://localhost:8080/",
     "height": 206
    },
    "id": "-xys36_zY0n9",
    "outputId": "17fb604d-f6f2-4c94-ca5d-ef045c3a4e83"
   },
   "outputs": [
    {
     "data": {
      "text/html": [
       "<div>\n",
       "<style scoped>\n",
       "    .dataframe tbody tr th:only-of-type {\n",
       "        vertical-align: middle;\n",
       "    }\n",
       "\n",
       "    .dataframe tbody tr th {\n",
       "        vertical-align: top;\n",
       "    }\n",
       "\n",
       "    .dataframe thead th {\n",
       "        text-align: right;\n",
       "    }\n",
       "</style>\n",
       "<table border=\"1\" class=\"dataframe\">\n",
       "  <thead>\n",
       "    <tr style=\"text-align: right;\">\n",
       "      <th></th>\n",
       "      <th>name</th>\n",
       "      <th>slug</th>\n",
       "      <th>Btu/person</th>\n",
       "      <th>date_of_information</th>\n",
       "      <th>ranking</th>\n",
       "      <th>region</th>\n",
       "    </tr>\n",
       "  </thead>\n",
       "  <tbody>\n",
       "    <tr>\n",
       "      <th>0</th>\n",
       "      <td>Qatar</td>\n",
       "      <td>qatar</td>\n",
       "      <td>814,308,000</td>\n",
       "      <td>2023</td>\n",
       "      <td>1</td>\n",
       "      <td>Middle East</td>\n",
       "    </tr>\n",
       "    <tr>\n",
       "      <th>1</th>\n",
       "      <td>Singapore</td>\n",
       "      <td>singapore</td>\n",
       "      <td>643,259,000</td>\n",
       "      <td>2023</td>\n",
       "      <td>2</td>\n",
       "      <td>East and Southeast Asia</td>\n",
       "    </tr>\n",
       "    <tr>\n",
       "      <th>2</th>\n",
       "      <td>Bahrain</td>\n",
       "      <td>bahrain</td>\n",
       "      <td>554,202,000</td>\n",
       "      <td>2023</td>\n",
       "      <td>3</td>\n",
       "      <td>Middle East</td>\n",
       "    </tr>\n",
       "    <tr>\n",
       "      <th>3</th>\n",
       "      <td>United Arab Emirates</td>\n",
       "      <td>united-arab-emirates</td>\n",
       "      <td>450,432,000</td>\n",
       "      <td>2023</td>\n",
       "      <td>4</td>\n",
       "      <td>Middle East</td>\n",
       "    </tr>\n",
       "    <tr>\n",
       "      <th>4</th>\n",
       "      <td>Brunei</td>\n",
       "      <td>brunei</td>\n",
       "      <td>403,365,000</td>\n",
       "      <td>2023</td>\n",
       "      <td>5</td>\n",
       "      <td>East and Southeast Asia</td>\n",
       "    </tr>\n",
       "  </tbody>\n",
       "</table>\n",
       "</div>"
      ],
      "text/plain": [
       "                   name                  slug   Btu/person  \\\n",
       "0                 Qatar                 qatar  814,308,000   \n",
       "1             Singapore             singapore  643,259,000   \n",
       "2               Bahrain               bahrain  554,202,000   \n",
       "3  United Arab Emirates  united-arab-emirates  450,432,000   \n",
       "4                Brunei                brunei  403,365,000   \n",
       "\n",
       "   date_of_information  ranking                   region  \n",
       "0                 2023        1              Middle East  \n",
       "1                 2023        2  East and Southeast Asia  \n",
       "2                 2023        3              Middle East  \n",
       "3                 2023        4              Middle East  \n",
       "4                 2023        5  East and Southeast Asia  "
      ]
     },
     "execution_count": 14,
     "metadata": {},
     "output_type": "execute_result"
    }
   ],
   "source": [
    "# Revisamos las primeras filas\n",
    "energy.head()\n",
    "\n",
    "# El Btu/person no es reconocido como un valor numérico"
   ]
  },
  {
   "cell_type": "code",
   "execution_count": 15,
   "metadata": {
    "id": "i0XzdK70XmNV"
   },
   "outputs": [],
   "source": [
    "# Realizamos un proceso similar a la data anterior\n",
    "energy = energy.drop(energy.columns[[1,3,4]], axis=1)"
   ]
  },
  {
   "cell_type": "code",
   "execution_count": 16,
   "metadata": {
    "id": "CQBZFxofKpmc"
   },
   "outputs": [],
   "source": [
    "# Renombramos las columnas 'name' y 'Btu/person'\n",
    "energy.rename(columns={ energy.columns[0]: \"Country\" }, inplace = True)\n",
    "energy.rename(columns={ energy.columns[1]: \"Energy\" }, inplace = True)"
   ]
  },
  {
   "cell_type": "code",
   "execution_count": 17,
   "metadata": {
    "colab": {
     "base_uri": "https://localhost:8080/",
     "height": 89
    },
    "id": "y2ZmMqlAYSwu",
    "outputId": "70f50fa8-5f7e-42f6-f0ae-7a47ec345bd6"
   },
   "outputs": [
    {
     "data": {
      "text/html": [
       "<div>\n",
       "<style scoped>\n",
       "    .dataframe tbody tr th:only-of-type {\n",
       "        vertical-align: middle;\n",
       "    }\n",
       "\n",
       "    .dataframe tbody tr th {\n",
       "        vertical-align: top;\n",
       "    }\n",
       "\n",
       "    .dataframe thead th {\n",
       "        text-align: right;\n",
       "    }\n",
       "</style>\n",
       "<table border=\"1\" class=\"dataframe\">\n",
       "  <thead>\n",
       "    <tr style=\"text-align: right;\">\n",
       "      <th></th>\n",
       "      <th>Country</th>\n",
       "      <th>Energy</th>\n",
       "      <th>region</th>\n",
       "    </tr>\n",
       "  </thead>\n",
       "  <tbody>\n",
       "  </tbody>\n",
       "</table>\n",
       "</div>"
      ],
      "text/plain": [
       "Empty DataFrame\n",
       "Columns: [Country, Energy, region]\n",
       "Index: []"
      ]
     },
     "metadata": {},
     "output_type": "display_data"
    }
   ],
   "source": [
    "# Revisamos que la data esté completa\n",
    "Filasvacias=energy[energy['Energy'].isnull()]\n",
    "\n",
    "display(Filasvacias)\n",
    "\n",
    "# Significa que la data está completa"
   ]
  },
  {
   "cell_type": "code",
   "execution_count": 18,
   "metadata": {
    "id": "pW7FlYp9ZOG8"
   },
   "outputs": [],
   "source": [
    "# Nos quedamos con los datos del ASCII\n",
    "energy['Country']=energy.Country.apply(unidecode)\n",
    "energy['region']=energy.region.apply(unidecode)"
   ]
  },
  {
   "cell_type": "code",
   "execution_count": 19,
   "metadata": {
    "id": "imrWDDTVOT0j"
   },
   "outputs": [],
   "source": [
    "# Eliminamos elementos que no son números por espacios vacios\n",
    "energy['Energy'] = energy['Energy'].str.replace(pat=r'[^\\d.]', repl='', regex=True)"
   ]
  },
  {
   "cell_type": "code",
   "execution_count": 20,
   "metadata": {
    "id": "hAhc_NoqOYC2"
   },
   "outputs": [],
   "source": [
    "# Transformamos las variables a numéricas\n",
    "energy['Energy']=pd.to_numeric(energy.Energy)"
   ]
  },
  {
   "cell_type": "code",
   "execution_count": 21,
   "metadata": {
    "colab": {
     "base_uri": "https://localhost:8080/"
    },
    "id": "8D-1vef4Z2oj",
    "outputId": "d061413e-e78b-4b2b-e828-cb29af98bb82"
   },
   "outputs": [
    {
     "name": "stdout",
     "output_type": "stream",
     "text": [
      "<class 'pandas.core.frame.DataFrame'>\n",
      "RangeIndex: 195 entries, 0 to 194\n",
      "Data columns (total 3 columns):\n",
      " #   Column   Non-Null Count  Dtype \n",
      "---  ------   --------------  ----- \n",
      " 0   Country  195 non-null    object\n",
      " 1   Energy   195 non-null    int64 \n",
      " 2   region   195 non-null    object\n",
      "dtypes: int64(1), object(2)\n",
      "memory usage: 4.7+ KB\n"
     ]
    }
   ],
   "source": [
    "# Revisamos como quedó\n",
    "energy.info()\n",
    "\n",
    "# Todo se ve correcto, continuamos con la limpieza de electricity"
   ]
  },
  {
   "cell_type": "markdown",
   "metadata": {
    "id": "yq0cunVP2M9W"
   },
   "source": [
    "ELECTRICITY"
   ]
  },
  {
   "cell_type": "code",
   "execution_count": 22,
   "metadata": {
    "colab": {
     "base_uri": "https://localhost:8080/",
     "height": 206
    },
    "id": "xuQjiuu4LCd8",
    "outputId": "c627c1b4-faf5-4602-ffd7-cc7071c54688"
   },
   "outputs": [
    {
     "data": {
      "text/html": [
       "<div>\n",
       "<style scoped>\n",
       "    .dataframe tbody tr th:only-of-type {\n",
       "        vertical-align: middle;\n",
       "    }\n",
       "\n",
       "    .dataframe tbody tr th {\n",
       "        vertical-align: top;\n",
       "    }\n",
       "\n",
       "    .dataframe thead th {\n",
       "        text-align: right;\n",
       "    }\n",
       "</style>\n",
       "<table border=\"1\" class=\"dataframe\">\n",
       "  <thead>\n",
       "    <tr style=\"text-align: right;\">\n",
       "      <th></th>\n",
       "      <th>name</th>\n",
       "      <th>slug</th>\n",
       "      <th>kW</th>\n",
       "      <th>date_of_information</th>\n",
       "      <th>ranking</th>\n",
       "      <th>region</th>\n",
       "    </tr>\n",
       "  </thead>\n",
       "  <tbody>\n",
       "    <tr>\n",
       "      <th>0</th>\n",
       "      <td>China</td>\n",
       "      <td>china</td>\n",
       "      <td>2,949,000,000</td>\n",
       "      <td>2023</td>\n",
       "      <td>1</td>\n",
       "      <td>East and Southeast Asia</td>\n",
       "    </tr>\n",
       "    <tr>\n",
       "      <th>1</th>\n",
       "      <td>United States</td>\n",
       "      <td>united-states</td>\n",
       "      <td>1,235,000,000</td>\n",
       "      <td>2023</td>\n",
       "      <td>2</td>\n",
       "      <td>North America</td>\n",
       "    </tr>\n",
       "    <tr>\n",
       "      <th>2</th>\n",
       "      <td>India</td>\n",
       "      <td>india</td>\n",
       "      <td>499,136,000</td>\n",
       "      <td>2023</td>\n",
       "      <td>3</td>\n",
       "      <td>South Asia</td>\n",
       "    </tr>\n",
       "    <tr>\n",
       "      <th>3</th>\n",
       "      <td>Japan</td>\n",
       "      <td>japan</td>\n",
       "      <td>361,617,000</td>\n",
       "      <td>2023</td>\n",
       "      <td>4</td>\n",
       "      <td>East and Southeast Asia</td>\n",
       "    </tr>\n",
       "    <tr>\n",
       "      <th>4</th>\n",
       "      <td>Russia</td>\n",
       "      <td>russia</td>\n",
       "      <td>301,926,000</td>\n",
       "      <td>2023</td>\n",
       "      <td>5</td>\n",
       "      <td>Central Asia</td>\n",
       "    </tr>\n",
       "  </tbody>\n",
       "</table>\n",
       "</div>"
      ],
      "text/plain": [
       "            name           slug             kW  date_of_information  ranking  \\\n",
       "0          China          china  2,949,000,000                 2023        1   \n",
       "1  United States  united-states  1,235,000,000                 2023        2   \n",
       "2          India          india    499,136,000                 2023        3   \n",
       "3          Japan          japan    361,617,000                 2023        4   \n",
       "4         Russia         russia    301,926,000                 2023        5   \n",
       "\n",
       "                    region  \n",
       "0  East and Southeast Asia  \n",
       "1            North America  \n",
       "2               South Asia  \n",
       "3  East and Southeast Asia  \n",
       "4             Central Asia  "
      ]
     },
     "execution_count": 22,
     "metadata": {},
     "output_type": "execute_result"
    }
   ],
   "source": [
    "# Revisamos las primeras filas\n",
    "electricity.head()"
   ]
  },
  {
   "cell_type": "code",
   "execution_count": 23,
   "metadata": {
    "id": "76mwmAouU3_t"
   },
   "outputs": [],
   "source": [
    "# Eliminamos las columnas que no necesitamos\n",
    "electricity = electricity.drop(electricity.columns[[1, 3, 4]], axis=1)"
   ]
  },
  {
   "cell_type": "code",
   "execution_count": 24,
   "metadata": {
    "id": "pMEo6xq0Wep5"
   },
   "outputs": [],
   "source": [
    "# Renombramos las columnas de acuerdo al uso que le daremos\n",
    "electricity.rename(columns={ electricity.columns[1]: \"Electricity\" }, inplace = True)\n",
    "electricity.rename(columns={ electricity.columns[0]: \"Country\" }, inplace = True)"
   ]
  },
  {
   "cell_type": "code",
   "execution_count": 25,
   "metadata": {
    "id": "yjn_2ZljaRZm"
   },
   "outputs": [],
   "source": [
    "# Queremos las columnas con datos del ASCII\n",
    "electricity['Country']=electricity.Country.apply(unidecode)\n",
    "electricity['region']=electricity.region.apply(unidecode)"
   ]
  },
  {
   "cell_type": "code",
   "execution_count": 26,
   "metadata": {
    "id": "sCYEidttOl4a"
   },
   "outputs": [],
   "source": [
    "# Eliminamos elementos que no son números por espacios vacios\n",
    "electricity['Electricity'] = electricity['Electricity'].str.replace(pat=r'[^\\d.]', repl='', regex=True)"
   ]
  },
  {
   "cell_type": "code",
   "execution_count": 27,
   "metadata": {
    "id": "o-W-fcN9OqsT"
   },
   "outputs": [],
   "source": [
    "# Transformamos en variables numéricas la columna 'Electricity'\n",
    "electricity['Electricity']=pd.to_numeric(electricity.Electricity)"
   ]
  },
  {
   "cell_type": "code",
   "execution_count": 28,
   "metadata": {
    "colab": {
     "base_uri": "https://localhost:8080/"
    },
    "id": "pq6D3g7d8ubd",
    "outputId": "c502b6a6-f4c9-493f-9123-1b15e3815268"
   },
   "outputs": [
    {
     "name": "stdout",
     "output_type": "stream",
     "text": [
      "<class 'pandas.core.frame.DataFrame'>\n",
      "RangeIndex: 211 entries, 0 to 210\n",
      "Data columns (total 3 columns):\n",
      " #   Column       Non-Null Count  Dtype \n",
      "---  ------       --------------  ----- \n",
      " 0   Country      211 non-null    object\n",
      " 1   Electricity  211 non-null    int64 \n",
      " 2   region       211 non-null    object\n",
      "dtypes: int64(1), object(2)\n",
      "memory usage: 5.1+ KB\n"
     ]
    }
   ],
   "source": [
    "# Revisamos como quedó\n",
    "electricity.info()\n",
    "\n",
    "# Todo se ve correcto, continuamos con la limpieza de education"
   ]
  },
  {
   "cell_type": "markdown",
   "metadata": {
    "id": "MRleQB8B8w6_"
   },
   "source": [
    "EDUCATION"
   ]
  },
  {
   "cell_type": "code",
   "execution_count": 29,
   "metadata": {
    "colab": {
     "base_uri": "https://localhost:8080/",
     "height": 206
    },
    "id": "SPTVYOapaVEz",
    "outputId": "febff0d5-5b45-4090-97bf-978b1791363e"
   },
   "outputs": [
    {
     "data": {
      "text/html": [
       "<div>\n",
       "<style scoped>\n",
       "    .dataframe tbody tr th:only-of-type {\n",
       "        vertical-align: middle;\n",
       "    }\n",
       "\n",
       "    .dataframe tbody tr th {\n",
       "        vertical-align: top;\n",
       "    }\n",
       "\n",
       "    .dataframe thead th {\n",
       "        text-align: right;\n",
       "    }\n",
       "</style>\n",
       "<table border=\"1\" class=\"dataframe\">\n",
       "  <thead>\n",
       "    <tr style=\"text-align: right;\">\n",
       "      <th></th>\n",
       "      <th>name</th>\n",
       "      <th>slug</th>\n",
       "      <th>% of GDP</th>\n",
       "      <th>date_of_information</th>\n",
       "      <th>ranking</th>\n",
       "      <th>region</th>\n",
       "    </tr>\n",
       "  </thead>\n",
       "  <tbody>\n",
       "    <tr>\n",
       "      <th>0</th>\n",
       "      <td>Marshall Islands</td>\n",
       "      <td>marshall-islands</td>\n",
       "      <td>13.6</td>\n",
       "      <td>2020</td>\n",
       "      <td>1</td>\n",
       "      <td>Australia and Oceania</td>\n",
       "    </tr>\n",
       "    <tr>\n",
       "      <th>1</th>\n",
       "      <td>Solomon Islands</td>\n",
       "      <td>solomon-islands</td>\n",
       "      <td>12.8</td>\n",
       "      <td>2020</td>\n",
       "      <td>2</td>\n",
       "      <td>Australia and Oceania</td>\n",
       "    </tr>\n",
       "    <tr>\n",
       "      <th>2</th>\n",
       "      <td>Kiribati</td>\n",
       "      <td>kiribati</td>\n",
       "      <td>12.4</td>\n",
       "      <td>2019</td>\n",
       "      <td>3</td>\n",
       "      <td>Australia and Oceania</td>\n",
       "    </tr>\n",
       "    <tr>\n",
       "      <th>3</th>\n",
       "      <td>Greenland</td>\n",
       "      <td>greenland</td>\n",
       "      <td>10.2</td>\n",
       "      <td>2019</td>\n",
       "      <td>4</td>\n",
       "      <td>North America</td>\n",
       "    </tr>\n",
       "    <tr>\n",
       "      <th>4</th>\n",
       "      <td>Bolivia</td>\n",
       "      <td>bolivia</td>\n",
       "      <td>9.8</td>\n",
       "      <td>2020</td>\n",
       "      <td>5</td>\n",
       "      <td>South America</td>\n",
       "    </tr>\n",
       "  </tbody>\n",
       "</table>\n",
       "</div>"
      ],
      "text/plain": [
       "               name              slug  % of GDP  date_of_information  ranking  \\\n",
       "0  Marshall Islands  marshall-islands      13.6                 2020        1   \n",
       "1   Solomon Islands   solomon-islands      12.8                 2020        2   \n",
       "2          Kiribati          kiribati      12.4                 2019        3   \n",
       "3         Greenland         greenland      10.2                 2019        4   \n",
       "4           Bolivia           bolivia       9.8                 2020        5   \n",
       "\n",
       "                  region  \n",
       "0  Australia and Oceania  \n",
       "1  Australia and Oceania  \n",
       "2  Australia and Oceania  \n",
       "3          North America  \n",
       "4          South America  "
      ]
     },
     "execution_count": 29,
     "metadata": {},
     "output_type": "execute_result"
    }
   ],
   "source": [
    "# Revisamos las primeras filas\n",
    "education.head()"
   ]
  },
  {
   "cell_type": "code",
   "execution_count": 30,
   "metadata": {
    "colab": {
     "base_uri": "https://localhost:8080/"
    },
    "id": "edw9-z7OczWW",
    "outputId": "cd33cb36-d79c-4416-bd49-61bf0e854fbe"
   },
   "outputs": [
    {
     "name": "stdout",
     "output_type": "stream",
     "text": [
      "<class 'pandas.core.frame.DataFrame'>\n",
      "RangeIndex: 197 entries, 0 to 196\n",
      "Data columns (total 6 columns):\n",
      " #   Column               Non-Null Count  Dtype  \n",
      "---  ------               --------------  -----  \n",
      " 0   name                 197 non-null    object \n",
      " 1   slug                 197 non-null    object \n",
      " 2   % of GDP             197 non-null    float64\n",
      " 3   date_of_information  197 non-null    int64  \n",
      " 4   ranking              197 non-null    int64  \n",
      " 5   region               197 non-null    object \n",
      "dtypes: float64(1), int64(2), object(3)\n",
      "memory usage: 9.4+ KB\n"
     ]
    }
   ],
   "source": [
    "# Revisamos la información\n",
    "education.info()\n",
    "\n",
    "# La columna deseada se encuentra en float64, valores numéricos"
   ]
  },
  {
   "cell_type": "code",
   "execution_count": 31,
   "metadata": {
    "id": "f5ORSS-HdP3t"
   },
   "outputs": [],
   "source": [
    "# Eliminamos las columnas que no necesitamos\n",
    "education = education.drop(education.columns[[1,3,4]], axis=1)"
   ]
  },
  {
   "cell_type": "code",
   "execution_count": 32,
   "metadata": {
    "id": "6JEZbcyYK0xi"
   },
   "outputs": [],
   "source": [
    "# Renombramos las columnas que vamos a usar\n",
    "education.rename(columns={ education.columns[0]: \"Country\" }, inplace = True)\n",
    "education.rename(columns={ education.columns[1]: \"Education\" }, inplace = True)"
   ]
  },
  {
   "cell_type": "code",
   "execution_count": 33,
   "metadata": {
    "id": "g5nHX5RddKzb"
   },
   "outputs": [],
   "source": [
    "# Formateamos acorde los datos del ASCII\n",
    "education['Country']=education.Country.apply(unidecode)\n",
    "education['region']=education.region.apply(unidecode)"
   ]
  },
  {
   "cell_type": "code",
   "execution_count": 34,
   "metadata": {
    "colab": {
     "base_uri": "https://localhost:8080/"
    },
    "id": "gF62mYWZdUqY",
    "outputId": "6bfc6f72-4be6-4121-a813-4d539cd70979"
   },
   "outputs": [
    {
     "name": "stdout",
     "output_type": "stream",
     "text": [
      "<class 'pandas.core.frame.DataFrame'>\n",
      "RangeIndex: 197 entries, 0 to 196\n",
      "Data columns (total 3 columns):\n",
      " #   Column     Non-Null Count  Dtype  \n",
      "---  ------     --------------  -----  \n",
      " 0   Country    197 non-null    object \n",
      " 1   Education  197 non-null    float64\n",
      " 2   region     197 non-null    object \n",
      "dtypes: float64(1), object(2)\n",
      "memory usage: 4.7+ KB\n"
     ]
    }
   ],
   "source": [
    "# Revisamos como quedó\n",
    "education.info()"
   ]
  },
  {
   "cell_type": "code",
   "execution_count": 35,
   "metadata": {
    "colab": {
     "base_uri": "https://localhost:8080/",
     "height": 89
    },
    "id": "8_MUJJ8jdfin",
    "outputId": "c9477541-efbb-499b-8cd7-e7369098daf4"
   },
   "outputs": [
    {
     "data": {
      "text/html": [
       "<div>\n",
       "<style scoped>\n",
       "    .dataframe tbody tr th:only-of-type {\n",
       "        vertical-align: middle;\n",
       "    }\n",
       "\n",
       "    .dataframe tbody tr th {\n",
       "        vertical-align: top;\n",
       "    }\n",
       "\n",
       "    .dataframe thead th {\n",
       "        text-align: right;\n",
       "    }\n",
       "</style>\n",
       "<table border=\"1\" class=\"dataframe\">\n",
       "  <thead>\n",
       "    <tr style=\"text-align: right;\">\n",
       "      <th></th>\n",
       "      <th>Country</th>\n",
       "      <th>Education</th>\n",
       "      <th>region</th>\n",
       "    </tr>\n",
       "  </thead>\n",
       "  <tbody>\n",
       "  </tbody>\n",
       "</table>\n",
       "</div>"
      ],
      "text/plain": [
       "Empty DataFrame\n",
       "Columns: [Country, Education, region]\n",
       "Index: []"
      ]
     },
     "metadata": {},
     "output_type": "display_data"
    }
   ],
   "source": [
    "Filasvacias=education[education['Education'].isnull()]\n",
    "\n",
    "display(Filasvacias)\n",
    "\n",
    "# Significa que la data está completa, fin de la limpieza"
   ]
  },
  {
   "cell_type": "markdown",
   "metadata": {
    "id": "aWxMTCsnlwR6"
   },
   "source": [
    "3. MERGING"
   ]
  },
  {
   "cell_type": "code",
   "execution_count": 36,
   "metadata": {
    "colab": {
     "base_uri": "https://localhost:8080/"
    },
    "id": "c008sULHoWPo",
    "outputId": "73d2478a-53f5-4be2-e1cf-259e994c1c50"
   },
   "outputs": [
    {
     "data": {
      "text/plain": [
       "((195, 3), (197, 3), (195, 3), (211, 3))"
      ]
     },
     "execution_count": 36,
     "metadata": {},
     "output_type": "execute_result"
    }
   ],
   "source": [
    "# Imprimimos las dimensiones (filas, columnas) de cada DataFrame para verificar su tamaño\n",
    "reserves.shape,education.shape,energy.shape,electricity.shape"
   ]
  },
  {
   "cell_type": "code",
   "execution_count": 37,
   "metadata": {
    "colab": {
     "base_uri": "https://localhost:8080/"
    },
    "id": "ayoskrPMpg_E",
    "outputId": "e69e8635-8623-4c45-c44a-7e0cc76a5b65"
   },
   "outputs": [
    {
     "data": {
      "text/plain": [
       "(188, 5)"
      ]
     },
     "execution_count": 37,
     "metadata": {},
     "output_type": "execute_result"
    }
   ],
   "source": [
    "# Verificamos cual es el método más adecuado y donde no se pierda data\n",
    "reserves.merge(energy,how='inner',left_on='Country',right_on='Country').shape"
   ]
  },
  {
   "cell_type": "code",
   "execution_count": 38,
   "metadata": {
    "colab": {
     "base_uri": "https://localhost:8080/"
    },
    "id": "pBtHkGslporr",
    "outputId": "80750337-d620-4cad-fe1c-0d6fc44c0e54"
   },
   "outputs": [
    {
     "data": {
      "text/plain": [
       "(195, 5)"
      ]
     },
     "execution_count": 38,
     "metadata": {},
     "output_type": "execute_result"
    }
   ],
   "source": [
    "reserves.merge(energy,how='left',left_on='Country',right_on='Country').shape"
   ]
  },
  {
   "cell_type": "code",
   "execution_count": 39,
   "metadata": {
    "colab": {
     "base_uri": "https://localhost:8080/"
    },
    "id": "5vU9LFt1puk4",
    "outputId": "127aea3e-697c-4e81-c209-9c5d6f7022a4"
   },
   "outputs": [
    {
     "data": {
      "text/plain": [
       "(202, 5)"
      ]
     },
     "execution_count": 39,
     "metadata": {},
     "output_type": "execute_result"
    }
   ],
   "source": [
    "reserves.merge(energy,how='outer',left_on='Country',right_on='Country').shape\n",
    "# Elegimos este método"
   ]
  },
  {
   "cell_type": "code",
   "execution_count": 40,
   "metadata": {
    "colab": {
     "base_uri": "https://localhost:8080/",
     "height": 423
    },
    "id": "iTYCt6uzmo77",
    "outputId": "612daffe-6d64-4476-e4a7-1ebdd308d696"
   },
   "outputs": [
    {
     "data": {
      "text/html": [
       "<div>\n",
       "<style scoped>\n",
       "    .dataframe tbody tr th:only-of-type {\n",
       "        vertical-align: middle;\n",
       "    }\n",
       "\n",
       "    .dataframe tbody tr th {\n",
       "        vertical-align: top;\n",
       "    }\n",
       "\n",
       "    .dataframe thead th {\n",
       "        text-align: right;\n",
       "    }\n",
       "</style>\n",
       "<table border=\"1\" class=\"dataframe\">\n",
       "  <thead>\n",
       "    <tr style=\"text-align: right;\">\n",
       "      <th></th>\n",
       "      <th>Country</th>\n",
       "      <th>Reserves</th>\n",
       "      <th>region_x</th>\n",
       "      <th>Energy</th>\n",
       "      <th>region_y</th>\n",
       "    </tr>\n",
       "  </thead>\n",
       "  <tbody>\n",
       "    <tr>\n",
       "      <th>0</th>\n",
       "      <td>Afghanistan</td>\n",
       "      <td>9.749000e+09</td>\n",
       "      <td>South Asia</td>\n",
       "      <td>3380000.0</td>\n",
       "      <td>South Asia</td>\n",
       "    </tr>\n",
       "    <tr>\n",
       "      <th>1</th>\n",
       "      <td>Albania</td>\n",
       "      <td>6.455000e+09</td>\n",
       "      <td>Europe</td>\n",
       "      <td>27407000.0</td>\n",
       "      <td>Europe</td>\n",
       "    </tr>\n",
       "    <tr>\n",
       "      <th>2</th>\n",
       "      <td>Algeria</td>\n",
       "      <td>6.844800e+10</td>\n",
       "      <td>Africa</td>\n",
       "      <td>61843000.0</td>\n",
       "      <td>Africa</td>\n",
       "    </tr>\n",
       "    <tr>\n",
       "      <th>3</th>\n",
       "      <td>American Samoa</td>\n",
       "      <td>NaN</td>\n",
       "      <td>NaN</td>\n",
       "      <td>89105000.0</td>\n",
       "      <td>Australia and Oceania</td>\n",
       "    </tr>\n",
       "    <tr>\n",
       "      <th>4</th>\n",
       "      <td>Angola</td>\n",
       "      <td>1.424300e+10</td>\n",
       "      <td>Africa</td>\n",
       "      <td>9146000.0</td>\n",
       "      <td>Africa</td>\n",
       "    </tr>\n",
       "    <tr>\n",
       "      <th>...</th>\n",
       "      <td>...</td>\n",
       "      <td>...</td>\n",
       "      <td>...</td>\n",
       "      <td>...</td>\n",
       "      <td>...</td>\n",
       "    </tr>\n",
       "    <tr>\n",
       "      <th>197</th>\n",
       "      <td>Vietnam</td>\n",
       "      <td>9.223800e+10</td>\n",
       "      <td>East and Southeast Asia</td>\n",
       "      <td>40263000.0</td>\n",
       "      <td>East and Southeast Asia</td>\n",
       "    </tr>\n",
       "    <tr>\n",
       "      <th>198</th>\n",
       "      <td>West Bank</td>\n",
       "      <td>1.328000e+09</td>\n",
       "      <td>Middle East</td>\n",
       "      <td>14991000.0</td>\n",
       "      <td>Middle East</td>\n",
       "    </tr>\n",
       "    <tr>\n",
       "      <th>199</th>\n",
       "      <td>Yemen</td>\n",
       "      <td>1.251000e+09</td>\n",
       "      <td>Middle East</td>\n",
       "      <td>2987000.0</td>\n",
       "      <td>Middle East</td>\n",
       "    </tr>\n",
       "    <tr>\n",
       "      <th>200</th>\n",
       "      <td>Zambia</td>\n",
       "      <td>3.173000e+09</td>\n",
       "      <td>Africa</td>\n",
       "      <td>8265000.0</td>\n",
       "      <td>Africa</td>\n",
       "    </tr>\n",
       "    <tr>\n",
       "      <th>201</th>\n",
       "      <td>Zimbabwe</td>\n",
       "      <td>2.613730e+08</td>\n",
       "      <td>Africa</td>\n",
       "      <td>10855000.0</td>\n",
       "      <td>Africa</td>\n",
       "    </tr>\n",
       "  </tbody>\n",
       "</table>\n",
       "<p>202 rows × 5 columns</p>\n",
       "</div>"
      ],
      "text/plain": [
       "            Country      Reserves                 region_x      Energy  \\\n",
       "0       Afghanistan  9.749000e+09               South Asia   3380000.0   \n",
       "1           Albania  6.455000e+09                   Europe  27407000.0   \n",
       "2           Algeria  6.844800e+10                   Africa  61843000.0   \n",
       "3    American Samoa           NaN                      NaN  89105000.0   \n",
       "4            Angola  1.424300e+10                   Africa   9146000.0   \n",
       "..              ...           ...                      ...         ...   \n",
       "197         Vietnam  9.223800e+10  East and Southeast Asia  40263000.0   \n",
       "198       West Bank  1.328000e+09              Middle East  14991000.0   \n",
       "199           Yemen  1.251000e+09              Middle East   2987000.0   \n",
       "200          Zambia  3.173000e+09                   Africa   8265000.0   \n",
       "201        Zimbabwe  2.613730e+08                   Africa  10855000.0   \n",
       "\n",
       "                    region_y  \n",
       "0                 South Asia  \n",
       "1                     Europe  \n",
       "2                     Africa  \n",
       "3      Australia and Oceania  \n",
       "4                     Africa  \n",
       "..                       ...  \n",
       "197  East and Southeast Asia  \n",
       "198              Middle East  \n",
       "199              Middle East  \n",
       "200                   Africa  \n",
       "201                   Africa  \n",
       "\n",
       "[202 rows x 5 columns]"
      ]
     },
     "execution_count": 40,
     "metadata": {},
     "output_type": "execute_result"
    }
   ],
   "source": [
    "# Combinamos la data\n",
    "t1=reserves.merge(energy,how='outer',left_on='Country',right_on='Country')\n",
    "t1"
   ]
  },
  {
   "cell_type": "code",
   "execution_count": 41,
   "metadata": {
    "colab": {
     "base_uri": "https://localhost:8080/",
     "height": 423
    },
    "id": "46RUJDZ7zqOk",
    "outputId": "1d699a61-0e1c-4f7a-e6f9-c115b46261d0"
   },
   "outputs": [
    {
     "data": {
      "text/html": [
       "<div>\n",
       "<style scoped>\n",
       "    .dataframe tbody tr th:only-of-type {\n",
       "        vertical-align: middle;\n",
       "    }\n",
       "\n",
       "    .dataframe tbody tr th {\n",
       "        vertical-align: top;\n",
       "    }\n",
       "\n",
       "    .dataframe thead th {\n",
       "        text-align: right;\n",
       "    }\n",
       "</style>\n",
       "<table border=\"1\" class=\"dataframe\">\n",
       "  <thead>\n",
       "    <tr style=\"text-align: right;\">\n",
       "      <th></th>\n",
       "      <th>Country</th>\n",
       "      <th>Education</th>\n",
       "      <th>region_x</th>\n",
       "      <th>Electricity</th>\n",
       "      <th>region_y</th>\n",
       "    </tr>\n",
       "  </thead>\n",
       "  <tbody>\n",
       "    <tr>\n",
       "      <th>0</th>\n",
       "      <td>Afghanistan</td>\n",
       "      <td>2.9</td>\n",
       "      <td>South Asia</td>\n",
       "      <td>627000.0</td>\n",
       "      <td>South Asia</td>\n",
       "    </tr>\n",
       "    <tr>\n",
       "      <th>1</th>\n",
       "      <td>Albania</td>\n",
       "      <td>3.1</td>\n",
       "      <td>Europe</td>\n",
       "      <td>2857000.0</td>\n",
       "      <td>Europe</td>\n",
       "    </tr>\n",
       "    <tr>\n",
       "      <th>2</th>\n",
       "      <td>Algeria</td>\n",
       "      <td>7.0</td>\n",
       "      <td>Africa</td>\n",
       "      <td>22591000.0</td>\n",
       "      <td>Africa</td>\n",
       "    </tr>\n",
       "    <tr>\n",
       "      <th>3</th>\n",
       "      <td>American Samoa</td>\n",
       "      <td>NaN</td>\n",
       "      <td>NaN</td>\n",
       "      <td>50000.0</td>\n",
       "      <td>Australia and Oceania</td>\n",
       "    </tr>\n",
       "    <tr>\n",
       "      <th>4</th>\n",
       "      <td>Andorra</td>\n",
       "      <td>2.9</td>\n",
       "      <td>Europe</td>\n",
       "      <td>NaN</td>\n",
       "      <td>NaN</td>\n",
       "    </tr>\n",
       "    <tr>\n",
       "      <th>...</th>\n",
       "      <td>...</td>\n",
       "      <td>...</td>\n",
       "      <td>...</td>\n",
       "      <td>...</td>\n",
       "      <td>...</td>\n",
       "    </tr>\n",
       "    <tr>\n",
       "      <th>215</th>\n",
       "      <td>Virgin Islands</td>\n",
       "      <td>NaN</td>\n",
       "      <td>NaN</td>\n",
       "      <td>326000.0</td>\n",
       "      <td>Central America and the Caribbean</td>\n",
       "    </tr>\n",
       "    <tr>\n",
       "      <th>216</th>\n",
       "      <td>West Bank</td>\n",
       "      <td>5.3</td>\n",
       "      <td>Middle East</td>\n",
       "      <td>352000.0</td>\n",
       "      <td>Middle East</td>\n",
       "    </tr>\n",
       "    <tr>\n",
       "      <th>217</th>\n",
       "      <td>Yemen</td>\n",
       "      <td>NaN</td>\n",
       "      <td>NaN</td>\n",
       "      <td>1790000.0</td>\n",
       "      <td>Middle East</td>\n",
       "    </tr>\n",
       "    <tr>\n",
       "      <th>218</th>\n",
       "      <td>Zambia</td>\n",
       "      <td>3.7</td>\n",
       "      <td>Africa</td>\n",
       "      <td>3986000.0</td>\n",
       "      <td>Africa</td>\n",
       "    </tr>\n",
       "    <tr>\n",
       "      <th>219</th>\n",
       "      <td>Zimbabwe</td>\n",
       "      <td>3.9</td>\n",
       "      <td>Africa</td>\n",
       "      <td>2491000.0</td>\n",
       "      <td>Africa</td>\n",
       "    </tr>\n",
       "  </tbody>\n",
       "</table>\n",
       "<p>220 rows × 5 columns</p>\n",
       "</div>"
      ],
      "text/plain": [
       "            Country  Education     region_x  Electricity  \\\n",
       "0       Afghanistan        2.9   South Asia     627000.0   \n",
       "1           Albania        3.1       Europe    2857000.0   \n",
       "2           Algeria        7.0       Africa   22591000.0   \n",
       "3    American Samoa        NaN          NaN      50000.0   \n",
       "4           Andorra        2.9       Europe          NaN   \n",
       "..              ...        ...          ...          ...   \n",
       "215  Virgin Islands        NaN          NaN     326000.0   \n",
       "216       West Bank        5.3  Middle East     352000.0   \n",
       "217           Yemen        NaN          NaN    1790000.0   \n",
       "218          Zambia        3.7       Africa    3986000.0   \n",
       "219        Zimbabwe        3.9       Africa    2491000.0   \n",
       "\n",
       "                              region_y  \n",
       "0                           South Asia  \n",
       "1                               Europe  \n",
       "2                               Africa  \n",
       "3                Australia and Oceania  \n",
       "4                                  NaN  \n",
       "..                                 ...  \n",
       "215  Central America and the Caribbean  \n",
       "216                        Middle East  \n",
       "217                        Middle East  \n",
       "218                             Africa  \n",
       "219                             Africa  \n",
       "\n",
       "[220 rows x 5 columns]"
      ]
     },
     "execution_count": 41,
     "metadata": {},
     "output_type": "execute_result"
    }
   ],
   "source": [
    "# Combinamos la data education y electricity\n",
    "t2=education.merge(electricity,how='outer',left_on='Country',right_on='Country')\n",
    "t2"
   ]
  },
  {
   "cell_type": "code",
   "execution_count": 42,
   "metadata": {
    "colab": {
     "base_uri": "https://localhost:8080/"
    },
    "id": "Molom4SO0XZ2",
    "outputId": "56d333b1-f4cd-4498-d259-5a59498fe1a1"
   },
   "outputs": [
    {
     "data": {
      "text/plain": [
       "set()"
      ]
     },
     "execution_count": 42,
     "metadata": {},
     "output_type": "execute_result"
    }
   ],
   "source": [
    "# Identificamos los países presentes solo en t1 que no están en t2\n",
    "Onlyt1=set(t1.Country)-set(t2.Country)\n",
    "Onlyt1"
   ]
  },
  {
   "cell_type": "code",
   "execution_count": 43,
   "metadata": {
    "colab": {
     "base_uri": "https://localhost:8080/"
    },
    "id": "RW_KZ1mC0cDm",
    "outputId": "df3f492d-535c-42de-f695-3fdc53da4867"
   },
   "outputs": [
    {
     "data": {
      "text/plain": [
       "{'Andorra',\n",
       " 'Cook Islands',\n",
       " 'Curacao',\n",
       " 'Falkland Islands (Islas Malvinas)',\n",
       " 'Faroe Islands',\n",
       " 'French Polynesia',\n",
       " 'Gibraltar',\n",
       " 'Greenland',\n",
       " 'Liechtenstein',\n",
       " 'Marshall Islands',\n",
       " 'Monaco',\n",
       " 'Nauru',\n",
       " 'New Caledonia',\n",
       " 'Niue',\n",
       " 'Saint Helena, Ascension, and Tristan da Cunha',\n",
       " 'Saint Pierre and Miquelon',\n",
       " 'Turks and Caicos Islands',\n",
       " 'Virgin Islands'}"
      ]
     },
     "execution_count": 43,
     "metadata": {},
     "output_type": "execute_result"
    }
   ],
   "source": [
    "# Identificamos los países presentes solo en t2 que no están en t1\n",
    "Onlyt2=set(t2.Country)-set(t1.Country)\n",
    "Onlyt2"
   ]
  },
  {
   "cell_type": "code",
   "execution_count": 44,
   "metadata": {
    "colab": {
     "base_uri": "https://localhost:8080/"
    },
    "id": "cI-o_Iy30Es9",
    "outputId": "0d212774-91f3-46fa-f28d-fe962aa0feac"
   },
   "outputs": [
    {
     "name": "stdout",
     "output_type": "stream",
     "text": [
      "Requirement already satisfied: thefuzz in c:\\users\\omen\\anaconda3\\envs\\dataespacial_311\\lib\\site-packages (0.22.1)\n",
      "Requirement already satisfied: rapidfuzz<4.0.0,>=3.0.0 in c:\\users\\omen\\anaconda3\\envs\\dataespacial_311\\lib\\site-packages (from thefuzz) (3.13.0)\n"
     ]
    }
   ],
   "source": [
    "!pip install thefuzz"
   ]
  },
  {
   "cell_type": "code",
   "execution_count": 45,
   "metadata": {
    "colab": {
     "base_uri": "https://localhost:8080/"
    },
    "id": "zQU0Jv590DT7",
    "outputId": "b9c2b1d9-fc14-4b4c-ac27-fe36dc5d4c79"
   },
   "outputs": [
    {
     "data": {
      "text/plain": [
       "[('Andorra', None),\n",
       " ('Cook Islands', None),\n",
       " ('Curacao', None),\n",
       " ('Falkland Islands (Islas Malvinas)', None),\n",
       " ('Faroe Islands', None),\n",
       " ('French Polynesia', None),\n",
       " ('Gibraltar', None),\n",
       " ('Greenland', None),\n",
       " ('Liechtenstein', None),\n",
       " ('Marshall Islands', None),\n",
       " ('Monaco', None),\n",
       " ('Nauru', None),\n",
       " ('New Caledonia', None),\n",
       " ('Niue', None),\n",
       " ('Saint Helena, Ascension, and Tristan da Cunha', None),\n",
       " ('Saint Pierre and Miquelon', None),\n",
       " ('Turks and Caicos Islands', None),\n",
       " ('Virgin Islands', None)]"
      ]
     },
     "execution_count": 45,
     "metadata": {},
     "output_type": "execute_result"
    }
   ],
   "source": [
    "from thefuzz import process as fz\n",
    "\n",
    "# Para cada país en Onlyt2, buscamos y mostramos la coincidencia más similar en Onlyt1\n",
    "[(c,fz.extractOne(c,Onlyt1 )) for c in sorted(Onlyt2)]\n",
    "\n",
    "# Significa que no se pierde ningún valor y no hay repetidos"
   ]
  },
  {
   "cell_type": "code",
   "execution_count": 46,
   "metadata": {
    "colab": {
     "base_uri": "https://localhost:8080/",
     "height": 423
    },
    "id": "Wb08KB-7z3uO",
    "outputId": "61bb25ba-d93c-4831-9d7a-fe3efc423044"
   },
   "outputs": [
    {
     "data": {
      "text/html": [
       "<div>\n",
       "<style scoped>\n",
       "    .dataframe tbody tr th:only-of-type {\n",
       "        vertical-align: middle;\n",
       "    }\n",
       "\n",
       "    .dataframe tbody tr th {\n",
       "        vertical-align: top;\n",
       "    }\n",
       "\n",
       "    .dataframe thead th {\n",
       "        text-align: right;\n",
       "    }\n",
       "</style>\n",
       "<table border=\"1\" class=\"dataframe\">\n",
       "  <thead>\n",
       "    <tr style=\"text-align: right;\">\n",
       "      <th></th>\n",
       "      <th>Country</th>\n",
       "      <th>Reserves</th>\n",
       "      <th>region_x_x</th>\n",
       "      <th>Energy</th>\n",
       "      <th>region_y_x</th>\n",
       "      <th>Education</th>\n",
       "      <th>region_x_y</th>\n",
       "      <th>Electricity</th>\n",
       "      <th>region_y_y</th>\n",
       "    </tr>\n",
       "  </thead>\n",
       "  <tbody>\n",
       "    <tr>\n",
       "      <th>0</th>\n",
       "      <td>Afghanistan</td>\n",
       "      <td>9.749000e+09</td>\n",
       "      <td>South Asia</td>\n",
       "      <td>3380000.0</td>\n",
       "      <td>South Asia</td>\n",
       "      <td>2.9</td>\n",
       "      <td>South Asia</td>\n",
       "      <td>627000.0</td>\n",
       "      <td>South Asia</td>\n",
       "    </tr>\n",
       "    <tr>\n",
       "      <th>1</th>\n",
       "      <td>Albania</td>\n",
       "      <td>6.455000e+09</td>\n",
       "      <td>Europe</td>\n",
       "      <td>27407000.0</td>\n",
       "      <td>Europe</td>\n",
       "      <td>3.1</td>\n",
       "      <td>Europe</td>\n",
       "      <td>2857000.0</td>\n",
       "      <td>Europe</td>\n",
       "    </tr>\n",
       "    <tr>\n",
       "      <th>2</th>\n",
       "      <td>Algeria</td>\n",
       "      <td>6.844800e+10</td>\n",
       "      <td>Africa</td>\n",
       "      <td>61843000.0</td>\n",
       "      <td>Africa</td>\n",
       "      <td>7.0</td>\n",
       "      <td>Africa</td>\n",
       "      <td>22591000.0</td>\n",
       "      <td>Africa</td>\n",
       "    </tr>\n",
       "    <tr>\n",
       "      <th>3</th>\n",
       "      <td>American Samoa</td>\n",
       "      <td>NaN</td>\n",
       "      <td>NaN</td>\n",
       "      <td>89105000.0</td>\n",
       "      <td>Australia and Oceania</td>\n",
       "      <td>NaN</td>\n",
       "      <td>NaN</td>\n",
       "      <td>50000.0</td>\n",
       "      <td>Australia and Oceania</td>\n",
       "    </tr>\n",
       "    <tr>\n",
       "      <th>4</th>\n",
       "      <td>Andorra</td>\n",
       "      <td>NaN</td>\n",
       "      <td>NaN</td>\n",
       "      <td>NaN</td>\n",
       "      <td>NaN</td>\n",
       "      <td>2.9</td>\n",
       "      <td>Europe</td>\n",
       "      <td>NaN</td>\n",
       "      <td>NaN</td>\n",
       "    </tr>\n",
       "    <tr>\n",
       "      <th>...</th>\n",
       "      <td>...</td>\n",
       "      <td>...</td>\n",
       "      <td>...</td>\n",
       "      <td>...</td>\n",
       "      <td>...</td>\n",
       "      <td>...</td>\n",
       "      <td>...</td>\n",
       "      <td>...</td>\n",
       "      <td>...</td>\n",
       "    </tr>\n",
       "    <tr>\n",
       "      <th>215</th>\n",
       "      <td>Virgin Islands</td>\n",
       "      <td>NaN</td>\n",
       "      <td>NaN</td>\n",
       "      <td>NaN</td>\n",
       "      <td>NaN</td>\n",
       "      <td>NaN</td>\n",
       "      <td>NaN</td>\n",
       "      <td>326000.0</td>\n",
       "      <td>Central America and the Caribbean</td>\n",
       "    </tr>\n",
       "    <tr>\n",
       "      <th>216</th>\n",
       "      <td>West Bank</td>\n",
       "      <td>1.328000e+09</td>\n",
       "      <td>Middle East</td>\n",
       "      <td>14991000.0</td>\n",
       "      <td>Middle East</td>\n",
       "      <td>5.3</td>\n",
       "      <td>Middle East</td>\n",
       "      <td>352000.0</td>\n",
       "      <td>Middle East</td>\n",
       "    </tr>\n",
       "    <tr>\n",
       "      <th>217</th>\n",
       "      <td>Yemen</td>\n",
       "      <td>1.251000e+09</td>\n",
       "      <td>Middle East</td>\n",
       "      <td>2987000.0</td>\n",
       "      <td>Middle East</td>\n",
       "      <td>NaN</td>\n",
       "      <td>NaN</td>\n",
       "      <td>1790000.0</td>\n",
       "      <td>Middle East</td>\n",
       "    </tr>\n",
       "    <tr>\n",
       "      <th>218</th>\n",
       "      <td>Zambia</td>\n",
       "      <td>3.173000e+09</td>\n",
       "      <td>Africa</td>\n",
       "      <td>8265000.0</td>\n",
       "      <td>Africa</td>\n",
       "      <td>3.7</td>\n",
       "      <td>Africa</td>\n",
       "      <td>3986000.0</td>\n",
       "      <td>Africa</td>\n",
       "    </tr>\n",
       "    <tr>\n",
       "      <th>219</th>\n",
       "      <td>Zimbabwe</td>\n",
       "      <td>2.613730e+08</td>\n",
       "      <td>Africa</td>\n",
       "      <td>10855000.0</td>\n",
       "      <td>Africa</td>\n",
       "      <td>3.9</td>\n",
       "      <td>Africa</td>\n",
       "      <td>2491000.0</td>\n",
       "      <td>Africa</td>\n",
       "    </tr>\n",
       "  </tbody>\n",
       "</table>\n",
       "<p>220 rows × 9 columns</p>\n",
       "</div>"
      ],
      "text/plain": [
       "            Country      Reserves   region_x_x      Energy  \\\n",
       "0       Afghanistan  9.749000e+09   South Asia   3380000.0   \n",
       "1           Albania  6.455000e+09       Europe  27407000.0   \n",
       "2           Algeria  6.844800e+10       Africa  61843000.0   \n",
       "3    American Samoa           NaN          NaN  89105000.0   \n",
       "4           Andorra           NaN          NaN         NaN   \n",
       "..              ...           ...          ...         ...   \n",
       "215  Virgin Islands           NaN          NaN         NaN   \n",
       "216       West Bank  1.328000e+09  Middle East  14991000.0   \n",
       "217           Yemen  1.251000e+09  Middle East   2987000.0   \n",
       "218          Zambia  3.173000e+09       Africa   8265000.0   \n",
       "219        Zimbabwe  2.613730e+08       Africa  10855000.0   \n",
       "\n",
       "                region_y_x  Education   region_x_y  Electricity  \\\n",
       "0               South Asia        2.9   South Asia     627000.0   \n",
       "1                   Europe        3.1       Europe    2857000.0   \n",
       "2                   Africa        7.0       Africa   22591000.0   \n",
       "3    Australia and Oceania        NaN          NaN      50000.0   \n",
       "4                      NaN        2.9       Europe          NaN   \n",
       "..                     ...        ...          ...          ...   \n",
       "215                    NaN        NaN          NaN     326000.0   \n",
       "216            Middle East        5.3  Middle East     352000.0   \n",
       "217            Middle East        NaN          NaN    1790000.0   \n",
       "218                 Africa        3.7       Africa    3986000.0   \n",
       "219                 Africa        3.9       Africa    2491000.0   \n",
       "\n",
       "                            region_y_y  \n",
       "0                           South Asia  \n",
       "1                               Europe  \n",
       "2                               Africa  \n",
       "3                Australia and Oceania  \n",
       "4                                  NaN  \n",
       "..                                 ...  \n",
       "215  Central America and the Caribbean  \n",
       "216                        Middle East  \n",
       "217                        Middle East  \n",
       "218                             Africa  \n",
       "219                             Africa  \n",
       "\n",
       "[220 rows x 9 columns]"
      ]
     },
     "execution_count": 46,
     "metadata": {},
     "output_type": "execute_result"
    }
   ],
   "source": [
    "# Realizamos un outer merge entre 't1' y 't2' basada en 'Country', creando un nuevo DataFrame 'tf'\n",
    "tf=t1.merge(t2,how='outer',left_on='Country',right_on='Country')\n",
    "tf"
   ]
  },
  {
   "cell_type": "code",
   "execution_count": 47,
   "metadata": {
    "id": "UNDlZy8zMtKU"
   },
   "outputs": [],
   "source": [
    "# Cambiamos de nombre a la columna 2 por Region\n",
    "tf.rename(columns={ tf.columns[2]: \"Region\" }, inplace = True)"
   ]
  },
  {
   "cell_type": "code",
   "execution_count": 48,
   "metadata": {
    "id": "B4aw-1nLLhle"
   },
   "outputs": [],
   "source": [
    "# Consolidamos los valores de la columna 'Region' usando la primera no nula de columnas auxiliares y luego las eliminamos\n",
    "tf[\"Region\"] = tf[\"Region\"].combine_first(tf[\"region_y_x\"])\n",
    "tf[\"Region\"] = tf[\"Region\"].combine_first(tf[\"region_x_y\"])\n",
    "tf[\"Region\"] = tf[\"Region\"].combine_first(tf[\"region_y_y\"])\n",
    "tf.drop(columns=[\"region_y_x\", \"region_x_y\", \"region_y_y\"], inplace=True)"
   ]
  },
  {
   "cell_type": "code",
   "execution_count": 49,
   "metadata": {
    "colab": {
     "base_uri": "https://localhost:8080/",
     "height": 206
    },
    "id": "p8U65jVWNKAe",
    "outputId": "77784c00-b73f-448f-db66-a5827a4cb1c5"
   },
   "outputs": [
    {
     "data": {
      "text/html": [
       "<div>\n",
       "<style scoped>\n",
       "    .dataframe tbody tr th:only-of-type {\n",
       "        vertical-align: middle;\n",
       "    }\n",
       "\n",
       "    .dataframe tbody tr th {\n",
       "        vertical-align: top;\n",
       "    }\n",
       "\n",
       "    .dataframe thead th {\n",
       "        text-align: right;\n",
       "    }\n",
       "</style>\n",
       "<table border=\"1\" class=\"dataframe\">\n",
       "  <thead>\n",
       "    <tr style=\"text-align: right;\">\n",
       "      <th></th>\n",
       "      <th>Country</th>\n",
       "      <th>Region</th>\n",
       "      <th>Reserves</th>\n",
       "      <th>Energy</th>\n",
       "      <th>Education</th>\n",
       "      <th>Electricity</th>\n",
       "    </tr>\n",
       "  </thead>\n",
       "  <tbody>\n",
       "    <tr>\n",
       "      <th>0</th>\n",
       "      <td>Afghanistan</td>\n",
       "      <td>South Asia</td>\n",
       "      <td>9.749000e+09</td>\n",
       "      <td>3380000.0</td>\n",
       "      <td>2.9</td>\n",
       "      <td>627000.0</td>\n",
       "    </tr>\n",
       "    <tr>\n",
       "      <th>1</th>\n",
       "      <td>Albania</td>\n",
       "      <td>Europe</td>\n",
       "      <td>6.455000e+09</td>\n",
       "      <td>27407000.0</td>\n",
       "      <td>3.1</td>\n",
       "      <td>2857000.0</td>\n",
       "    </tr>\n",
       "    <tr>\n",
       "      <th>2</th>\n",
       "      <td>Algeria</td>\n",
       "      <td>Africa</td>\n",
       "      <td>6.844800e+10</td>\n",
       "      <td>61843000.0</td>\n",
       "      <td>7.0</td>\n",
       "      <td>22591000.0</td>\n",
       "    </tr>\n",
       "    <tr>\n",
       "      <th>3</th>\n",
       "      <td>American Samoa</td>\n",
       "      <td>Australia and Oceania</td>\n",
       "      <td>NaN</td>\n",
       "      <td>89105000.0</td>\n",
       "      <td>NaN</td>\n",
       "      <td>50000.0</td>\n",
       "    </tr>\n",
       "    <tr>\n",
       "      <th>4</th>\n",
       "      <td>Andorra</td>\n",
       "      <td>Europe</td>\n",
       "      <td>NaN</td>\n",
       "      <td>NaN</td>\n",
       "      <td>2.9</td>\n",
       "      <td>NaN</td>\n",
       "    </tr>\n",
       "  </tbody>\n",
       "</table>\n",
       "</div>"
      ],
      "text/plain": [
       "          Country                 Region      Reserves      Energy  Education  \\\n",
       "0     Afghanistan             South Asia  9.749000e+09   3380000.0        2.9   \n",
       "1         Albania                 Europe  6.455000e+09  27407000.0        3.1   \n",
       "2         Algeria                 Africa  6.844800e+10  61843000.0        7.0   \n",
       "3  American Samoa  Australia and Oceania           NaN  89105000.0        NaN   \n",
       "4         Andorra                 Europe           NaN         NaN        2.9   \n",
       "\n",
       "   Electricity  \n",
       "0     627000.0  \n",
       "1    2857000.0  \n",
       "2   22591000.0  \n",
       "3      50000.0  \n",
       "4          NaN  "
      ]
     },
     "execution_count": 49,
     "metadata": {},
     "output_type": "execute_result"
    }
   ],
   "source": [
    "# Movemos la columna 'Region' a la segunda posición\n",
    "cols = tf.columns.tolist()\n",
    "cols.remove('Region')\n",
    "cols.insert(1, 'Region')\n",
    "tf = tf[cols]\n",
    "\n",
    "tf.head()"
   ]
  },
  {
   "cell_type": "markdown",
   "metadata": {
    "id": "1n4ZmMg0QHxL"
   },
   "source": [
    "4. AGGREGATING"
   ]
  },
  {
   "cell_type": "code",
   "execution_count": 50,
   "metadata": {
    "colab": {
     "base_uri": "https://localhost:8080/",
     "height": 425
    },
    "id": "zmou5xHiNRyA",
    "outputId": "c5494692-ae73-496b-dd6b-bb9d8d2ab1bb"
   },
   "outputs": [
    {
     "data": {
      "text/html": [
       "<div>\n",
       "<style scoped>\n",
       "    .dataframe tbody tr th:only-of-type {\n",
       "        vertical-align: middle;\n",
       "    }\n",
       "\n",
       "    .dataframe tbody tr th {\n",
       "        vertical-align: top;\n",
       "    }\n",
       "\n",
       "    .dataframe thead tr th {\n",
       "        text-align: left;\n",
       "    }\n",
       "\n",
       "    .dataframe thead tr:last-of-type th {\n",
       "        text-align: right;\n",
       "    }\n",
       "</style>\n",
       "<table border=\"1\" class=\"dataframe\">\n",
       "  <thead>\n",
       "    <tr>\n",
       "      <th></th>\n",
       "      <th colspan=\"3\" halign=\"left\">Reserves</th>\n",
       "      <th colspan=\"3\" halign=\"left\">Energy</th>\n",
       "      <th colspan=\"3\" halign=\"left\">Electricity</th>\n",
       "      <th colspan=\"3\" halign=\"left\">Education</th>\n",
       "    </tr>\n",
       "    <tr>\n",
       "      <th></th>\n",
       "      <th>mean</th>\n",
       "      <th>min</th>\n",
       "      <th>max</th>\n",
       "      <th>mean</th>\n",
       "      <th>min</th>\n",
       "      <th>max</th>\n",
       "      <th>mean</th>\n",
       "      <th>min</th>\n",
       "      <th>max</th>\n",
       "      <th>mean</th>\n",
       "      <th>min</th>\n",
       "      <th>max</th>\n",
       "    </tr>\n",
       "    <tr>\n",
       "      <th>Region</th>\n",
       "      <th></th>\n",
       "      <th></th>\n",
       "      <th></th>\n",
       "      <th></th>\n",
       "      <th></th>\n",
       "      <th></th>\n",
       "      <th></th>\n",
       "      <th></th>\n",
       "      <th></th>\n",
       "      <th></th>\n",
       "      <th></th>\n",
       "      <th></th>\n",
       "    </tr>\n",
       "  </thead>\n",
       "  <tbody>\n",
       "    <tr>\n",
       "      <th>Africa</th>\n",
       "      <td>7.880167e+09</td>\n",
       "      <td>3.045000e+07</td>\n",
       "      <td>8.059200e+10</td>\n",
       "      <td>1.612254e+07</td>\n",
       "      <td>649000.0</td>\n",
       "      <td>100844000.0</td>\n",
       "      <td>4.471309e+06</td>\n",
       "      <td>5000.0</td>\n",
       "      <td>6.598900e+07</td>\n",
       "      <td>4.268000</td>\n",
       "      <td>0.3</td>\n",
       "      <td>9.6</td>\n",
       "    </tr>\n",
       "    <tr>\n",
       "      <th>Australia and Oceania</th>\n",
       "      <td>9.047955e+09</td>\n",
       "      <td>3.965300e+08</td>\n",
       "      <td>5.445500e+10</td>\n",
       "      <td>6.837550e+07</td>\n",
       "      <td>5655000.0</td>\n",
       "      <td>223158000.0</td>\n",
       "      <td>8.104800e+06</td>\n",
       "      <td>3000.0</td>\n",
       "      <td>1.081930e+08</td>\n",
       "      <td>7.569231</td>\n",
       "      <td>2.2</td>\n",
       "      <td>13.6</td>\n",
       "    </tr>\n",
       "    <tr>\n",
       "      <th>Central America and the Caribbean</th>\n",
       "      <td>4.506223e+09</td>\n",
       "      <td>4.758000e+07</td>\n",
       "      <td>2.383400e+10</td>\n",
       "      <td>5.638322e+07</td>\n",
       "      <td>3486000.0</td>\n",
       "      <td>153952000.0</td>\n",
       "      <td>1.792593e+06</td>\n",
       "      <td>6000.0</td>\n",
       "      <td>7.264000e+06</td>\n",
       "      <td>4.544444</td>\n",
       "      <td>1.4</td>\n",
       "      <td>8.7</td>\n",
       "    </tr>\n",
       "    <tr>\n",
       "      <th>Central Asia</th>\n",
       "      <td>7.555822e+10</td>\n",
       "      <td>3.237000e+09</td>\n",
       "      <td>5.972170e+11</td>\n",
       "      <td>1.039161e+08</td>\n",
       "      <td>16192000.0</td>\n",
       "      <td>261142000.0</td>\n",
       "      <td>4.239578e+07</td>\n",
       "      <td>3944000.0</td>\n",
       "      <td>3.019260e+08</td>\n",
       "      <td>4.333333</td>\n",
       "      <td>2.8</td>\n",
       "      <td>6.2</td>\n",
       "    </tr>\n",
       "    <tr>\n",
       "      <th>East and Southeast Asia</th>\n",
       "      <td>3.590397e+11</td>\n",
       "      <td>7.819950e+08</td>\n",
       "      <td>3.265000e+12</td>\n",
       "      <td>1.183153e+08</td>\n",
       "      <td>6825000.0</td>\n",
       "      <td>643259000.0</td>\n",
       "      <td>1.934047e+08</td>\n",
       "      <td>277000.0</td>\n",
       "      <td>2.949000e+09</td>\n",
       "      <td>3.633333</td>\n",
       "      <td>1.4</td>\n",
       "      <td>6.3</td>\n",
       "    </tr>\n",
       "    <tr>\n",
       "      <th>Europe</th>\n",
       "      <td>5.535318e+10</td>\n",
       "      <td>8.360880e+08</td>\n",
       "      <td>8.221300e+11</td>\n",
       "      <td>1.082769e+08</td>\n",
       "      <td>27407000.0</td>\n",
       "      <td>234698000.0</td>\n",
       "      <td>3.387260e+07</td>\n",
       "      <td>50000.0</td>\n",
       "      <td>2.756580e+08</td>\n",
       "      <td>5.017073</td>\n",
       "      <td>1.2</td>\n",
       "      <td>7.7</td>\n",
       "    </tr>\n",
       "    <tr>\n",
       "      <th>Middle East</th>\n",
       "      <td>8.263783e+10</td>\n",
       "      <td>4.073000e+08</td>\n",
       "      <td>4.367690e+11</td>\n",
       "      <td>2.116042e+08</td>\n",
       "      <td>2987000.0</td>\n",
       "      <td>814308000.0</td>\n",
       "      <td>3.030425e+07</td>\n",
       "      <td>352000.0</td>\n",
       "      <td>1.196200e+08</td>\n",
       "      <td>4.528571</td>\n",
       "      <td>1.7</td>\n",
       "      <td>7.8</td>\n",
       "    </tr>\n",
       "    <tr>\n",
       "      <th>North America</th>\n",
       "      <td>1.890850e+11</td>\n",
       "      <td>1.175510e+11</td>\n",
       "      <td>2.277600e+11</td>\n",
       "      <td>1.925872e+08</td>\n",
       "      <td>57539000.0</td>\n",
       "      <td>311599000.0</td>\n",
       "      <td>2.504937e+08</td>\n",
       "      <td>26000.0</td>\n",
       "      <td>1.235000e+09</td>\n",
       "      <td>5.540000</td>\n",
       "      <td>1.9</td>\n",
       "      <td>10.2</td>\n",
       "    </tr>\n",
       "    <tr>\n",
       "      <th>South America</th>\n",
       "      <td>4.748692e+10</td>\n",
       "      <td>8.710000e+07</td>\n",
       "      <td>3.188570e+11</td>\n",
       "      <td>4.641467e+07</td>\n",
       "      <td>25733000.0</td>\n",
       "      <td>78496000.0</td>\n",
       "      <td>3.277377e+07</td>\n",
       "      <td>10000.0</td>\n",
       "      <td>2.402510e+08</td>\n",
       "      <td>4.808333</td>\n",
       "      <td>1.3</td>\n",
       "      <td>9.8</td>\n",
       "    </tr>\n",
       "    <tr>\n",
       "      <th>South Asia</th>\n",
       "      <td>7.907593e+10</td>\n",
       "      <td>6.732030e+08</td>\n",
       "      <td>5.695440e+11</td>\n",
       "      <td>2.350638e+07</td>\n",
       "      <td>3380000.0</td>\n",
       "      <td>64082000.0</td>\n",
       "      <td>7.211612e+07</td>\n",
       "      <td>432000.0</td>\n",
       "      <td>4.991360e+08</td>\n",
       "      <td>3.850000</td>\n",
       "      <td>1.9</td>\n",
       "      <td>7.0</td>\n",
       "    </tr>\n",
       "  </tbody>\n",
       "</table>\n",
       "</div>"
      ],
      "text/plain": [
       "                                       Reserves                              \\\n",
       "                                           mean           min           max   \n",
       "Region                                                                        \n",
       "Africa                             7.880167e+09  3.045000e+07  8.059200e+10   \n",
       "Australia and Oceania              9.047955e+09  3.965300e+08  5.445500e+10   \n",
       "Central America and the Caribbean  4.506223e+09  4.758000e+07  2.383400e+10   \n",
       "Central Asia                       7.555822e+10  3.237000e+09  5.972170e+11   \n",
       "East and Southeast Asia            3.590397e+11  7.819950e+08  3.265000e+12   \n",
       "Europe                             5.535318e+10  8.360880e+08  8.221300e+11   \n",
       "Middle East                        8.263783e+10  4.073000e+08  4.367690e+11   \n",
       "North America                      1.890850e+11  1.175510e+11  2.277600e+11   \n",
       "South America                      4.748692e+10  8.710000e+07  3.188570e+11   \n",
       "South Asia                         7.907593e+10  6.732030e+08  5.695440e+11   \n",
       "\n",
       "                                         Energy                           \\\n",
       "                                           mean         min          max   \n",
       "Region                                                                     \n",
       "Africa                             1.612254e+07    649000.0  100844000.0   \n",
       "Australia and Oceania              6.837550e+07   5655000.0  223158000.0   \n",
       "Central America and the Caribbean  5.638322e+07   3486000.0  153952000.0   \n",
       "Central Asia                       1.039161e+08  16192000.0  261142000.0   \n",
       "East and Southeast Asia            1.183153e+08   6825000.0  643259000.0   \n",
       "Europe                             1.082769e+08  27407000.0  234698000.0   \n",
       "Middle East                        2.116042e+08   2987000.0  814308000.0   \n",
       "North America                      1.925872e+08  57539000.0  311599000.0   \n",
       "South America                      4.641467e+07  25733000.0   78496000.0   \n",
       "South Asia                         2.350638e+07   3380000.0   64082000.0   \n",
       "\n",
       "                                    Electricity                           \\\n",
       "                                           mean        min           max   \n",
       "Region                                                                     \n",
       "Africa                             4.471309e+06     5000.0  6.598900e+07   \n",
       "Australia and Oceania              8.104800e+06     3000.0  1.081930e+08   \n",
       "Central America and the Caribbean  1.792593e+06     6000.0  7.264000e+06   \n",
       "Central Asia                       4.239578e+07  3944000.0  3.019260e+08   \n",
       "East and Southeast Asia            1.934047e+08   277000.0  2.949000e+09   \n",
       "Europe                             3.387260e+07    50000.0  2.756580e+08   \n",
       "Middle East                        3.030425e+07   352000.0  1.196200e+08   \n",
       "North America                      2.504937e+08    26000.0  1.235000e+09   \n",
       "South America                      3.277377e+07    10000.0  2.402510e+08   \n",
       "South Asia                         7.211612e+07   432000.0  4.991360e+08   \n",
       "\n",
       "                                  Education             \n",
       "                                       mean  min   max  \n",
       "Region                                                  \n",
       "Africa                             4.268000  0.3   9.6  \n",
       "Australia and Oceania              7.569231  2.2  13.6  \n",
       "Central America and the Caribbean  4.544444  1.4   8.7  \n",
       "Central Asia                       4.333333  2.8   6.2  \n",
       "East and Southeast Asia            3.633333  1.4   6.3  \n",
       "Europe                             5.017073  1.2   7.7  \n",
       "Middle East                        4.528571  1.7   7.8  \n",
       "North America                      5.540000  1.9  10.2  \n",
       "South America                      4.808333  1.3   9.8  \n",
       "South Asia                         3.850000  1.9   7.0  "
      ]
     },
     "execution_count": 50,
     "metadata": {},
     "output_type": "execute_result"
    }
   ],
   "source": [
    "# Agrupamos el DataFrame por 'Region' y calculamos la media, mínimo y máximo para las columnas de interés\n",
    "region_stats = tf.groupby('Region')[['Reserves', 'Energy', 'Electricity', 'Education']].agg(['mean', 'min', 'max'])\n",
    "region_stats"
   ]
  },
  {
   "cell_type": "markdown",
   "metadata": {
    "id": "FwyKoBcPP9lG"
   },
   "source": [
    "5. DISCRETIZACIÓN"
   ]
  },
  {
   "cell_type": "code",
   "execution_count": 51,
   "metadata": {
    "colab": {
     "base_uri": "https://localhost:8080/"
    },
    "id": "w0jFuQtcTqGJ",
    "outputId": "03044053-17d6-4d58-dc07-b2d5677b6ef6"
   },
   "outputs": [
    {
     "name": "stdout",
     "output_type": "stream",
     "text": [
      "Requirement already satisfied: mapclassify in c:\\users\\omen\\anaconda3\\envs\\dataespacial_311\\lib\\site-packages (2.8.1)\n",
      "Requirement already satisfied: networkx>=2.7 in c:\\users\\omen\\anaconda3\\envs\\dataespacial_311\\lib\\site-packages (from mapclassify) (3.4.2)\n",
      "Requirement already satisfied: numpy>=1.23 in c:\\users\\omen\\anaconda3\\envs\\dataespacial_311\\lib\\site-packages (from mapclassify) (2.1.3)\n",
      "Requirement already satisfied: pandas!=1.5.0,>=1.4 in c:\\users\\omen\\anaconda3\\envs\\dataespacial_311\\lib\\site-packages (from mapclassify) (2.2.3)\n",
      "Requirement already satisfied: scikit-learn>=1.0 in c:\\users\\omen\\anaconda3\\envs\\dataespacial_311\\lib\\site-packages (from mapclassify) (1.6.1)\n",
      "Requirement already satisfied: scipy>=1.8 in c:\\users\\omen\\anaconda3\\envs\\dataespacial_311\\lib\\site-packages (from mapclassify) (1.15.2)\n",
      "Requirement already satisfied: python-dateutil>=2.8.2 in c:\\users\\omen\\anaconda3\\envs\\dataespacial_311\\lib\\site-packages (from pandas!=1.5.0,>=1.4->mapclassify) (2.9.0.post0)\n",
      "Requirement already satisfied: pytz>=2020.1 in c:\\users\\omen\\anaconda3\\envs\\dataespacial_311\\lib\\site-packages (from pandas!=1.5.0,>=1.4->mapclassify) (2024.1)\n",
      "Requirement already satisfied: tzdata>=2022.7 in c:\\users\\omen\\anaconda3\\envs\\dataespacial_311\\lib\\site-packages (from pandas!=1.5.0,>=1.4->mapclassify) (2023.3)\n",
      "Requirement already satisfied: joblib>=1.2.0 in c:\\users\\omen\\anaconda3\\envs\\dataespacial_311\\lib\\site-packages (from scikit-learn>=1.0->mapclassify) (1.4.2)\n",
      "Requirement already satisfied: threadpoolctl>=3.1.0 in c:\\users\\omen\\anaconda3\\envs\\dataespacial_311\\lib\\site-packages (from scikit-learn>=1.0->mapclassify) (3.6.0)\n",
      "Requirement already satisfied: six>=1.5 in c:\\users\\omen\\anaconda3\\envs\\dataespacial_311\\lib\\site-packages (from python-dateutil>=2.8.2->pandas!=1.5.0,>=1.4->mapclassify) (1.16.0)\n"
     ]
    }
   ],
   "source": [
    "!pip install mapclassify"
   ]
  },
  {
   "cell_type": "code",
   "execution_count": 52,
   "metadata": {
    "id": "NBule1I5XoU_"
   },
   "outputs": [],
   "source": [
    "import mapclassify\n",
    "import numpy as np\n",
    "import pandas as pd # Import pandas\n",
    "\n",
    "np.random.seed(12345)\n",
    "\n",
    "theVar = tf.Reserves\n",
    "\n",
    "# Eliminamos los valores Nan\n",
    "theVar = theVar.dropna()\n",
    "\n",
    "#Definimos número de intervalos\n",
    "K = 5\n",
    "\n",
    "#Utilizamos los distintos métodos para obtener los intervalos\n",
    "ei5 = mapclassify.EqualInterval(theVar, k=K)\n",
    "msd = mapclassify.StdMean(theVar)\n",
    "q5 = mapclassify.Quantiles(theVar, k=K)\n",
    "mb5 = mapclassify.MaximumBreaks(theVar, k=K)\n",
    "ht = mapclassify.HeadTailBreaks(theVar)\n",
    "fj5 = mapclassify.FisherJenks(theVar, k=K)\n",
    "jc5 = mapclassify.JenksCaspall(theVar, k=K)\n",
    "mp5 = mapclassify.MaxP(theVar, k=K)"
   ]
  },
  {
   "cell_type": "code",
   "execution_count": 53,
   "metadata": {
    "colab": {
     "base_uri": "https://localhost:8080/",
     "height": 300
    },
    "id": "yhg4Mg33YQZB",
    "outputId": "40e9ac97-c281-4161-f74c-76393f3e91d5"
   },
   "outputs": [
    {
     "data": {
      "text/html": [
       "<div>\n",
       "<style scoped>\n",
       "    .dataframe tbody tr th:only-of-type {\n",
       "        vertical-align: middle;\n",
       "    }\n",
       "\n",
       "    .dataframe tbody tr th {\n",
       "        vertical-align: top;\n",
       "    }\n",
       "\n",
       "    .dataframe thead th {\n",
       "        text-align: right;\n",
       "    }\n",
       "</style>\n",
       "<table border=\"1\" class=\"dataframe\">\n",
       "  <thead>\n",
       "    <tr style=\"text-align: right;\">\n",
       "      <th></th>\n",
       "      <th>ADCM</th>\n",
       "      <th>Classifier</th>\n",
       "    </tr>\n",
       "  </thead>\n",
       "  <tbody>\n",
       "    <tr>\n",
       "      <th>7</th>\n",
       "      <td>9.299101e+12</td>\n",
       "      <td>MaxP</td>\n",
       "    </tr>\n",
       "    <tr>\n",
       "      <th>0</th>\n",
       "      <td>9.271262e+12</td>\n",
       "      <td>Quantiles</td>\n",
       "    </tr>\n",
       "    <tr>\n",
       "      <th>1</th>\n",
       "      <td>8.251084e+12</td>\n",
       "      <td>EqualInterval</td>\n",
       "    </tr>\n",
       "    <tr>\n",
       "      <th>2</th>\n",
       "      <td>7.552820e+12</td>\n",
       "      <td>StdMean</td>\n",
       "    </tr>\n",
       "    <tr>\n",
       "      <th>4</th>\n",
       "      <td>6.784226e+12</td>\n",
       "      <td>MaximumBreaks</td>\n",
       "    </tr>\n",
       "    <tr>\n",
       "      <th>6</th>\n",
       "      <td>5.983126e+12</td>\n",
       "      <td>JenksCaspall</td>\n",
       "    </tr>\n",
       "    <tr>\n",
       "      <th>3</th>\n",
       "      <td>3.384256e+12</td>\n",
       "      <td>HeadTailBreaks</td>\n",
       "    </tr>\n",
       "    <tr>\n",
       "      <th>5</th>\n",
       "      <td>3.248788e+12</td>\n",
       "      <td>FisherJenks</td>\n",
       "    </tr>\n",
       "  </tbody>\n",
       "</table>\n",
       "</div>"
      ],
      "text/plain": [
       "           ADCM      Classifier\n",
       "7  9.299101e+12            MaxP\n",
       "0  9.271262e+12       Quantiles\n",
       "1  8.251084e+12   EqualInterval\n",
       "2  7.552820e+12         StdMean\n",
       "4  6.784226e+12   MaximumBreaks\n",
       "6  5.983126e+12    JenksCaspall\n",
       "3  3.384256e+12  HeadTailBreaks\n",
       "5  3.248788e+12     FisherJenks"
      ]
     },
     "execution_count": 53,
     "metadata": {},
     "output_type": "execute_result"
    }
   ],
   "source": [
    "import seaborn\n",
    "class5 = q5, ei5,msd, ht, mb5, fj5, jc5, mp5\n",
    "\n",
    "#Para la elección del método a utilizar, recolectamos el ADCM de cada clasificación\n",
    "fits = np.array([ c.adcm for c in class5])\n",
    "adcms = pd.DataFrame(fits)\n",
    "adcms['classifier'] = [c.name for c in class5]\n",
    "adcms.columns = ['ADCM', 'Classifier']\n",
    "\n",
    "#Elegimos el de menor valor, en este caso jc5\n",
    "adcms.sort_values(by='ADCM', ascending=False)"
   ]
  },
  {
   "cell_type": "code",
   "execution_count": 54,
   "metadata": {
    "colab": {
     "base_uri": "https://localhost:8080/",
     "height": 527
    },
    "id": "1gAGqx7bYnXX",
    "outputId": "9365c3c0-eb5f-4df1-9a06-f69055ccd318"
   },
   "outputs": [
    {
     "name": "stderr",
     "output_type": "stream",
     "text": [
      "C:\\Users\\OMEN\\AppData\\Local\\Temp\\ipykernel_15104\\3593254390.py:9: SettingWithCopyWarning: \n",
      "A value is trying to be set on a copy of a slice from a DataFrame.\n",
      "Try using .loc[row_indexer,col_indexer] = value instead\n",
      "\n",
      "See the caveats in the documentation: https://pandas.pydata.org/pandas-docs/stable/user_guide/indexing.html#returning-a-view-versus-a-copy\n",
      "  tf['Reserves_fj5'] = classified_reserves_reindexed.astype('Int64')\n"
     ]
    },
    {
     "data": {
      "text/html": [
       "<div>\n",
       "<style scoped>\n",
       "    .dataframe tbody tr th:only-of-type {\n",
       "        vertical-align: middle;\n",
       "    }\n",
       "\n",
       "    .dataframe tbody tr th {\n",
       "        vertical-align: top;\n",
       "    }\n",
       "\n",
       "    .dataframe thead th {\n",
       "        text-align: right;\n",
       "    }\n",
       "</style>\n",
       "<table border=\"1\" class=\"dataframe\">\n",
       "  <thead>\n",
       "    <tr style=\"text-align: right;\">\n",
       "      <th></th>\n",
       "      <th>Country</th>\n",
       "    </tr>\n",
       "  </thead>\n",
       "  <tbody>\n",
       "    <tr>\n",
       "      <th>0</th>\n",
       "      <td>Afghanistan</td>\n",
       "    </tr>\n",
       "    <tr>\n",
       "      <th>1</th>\n",
       "      <td>Albania</td>\n",
       "    </tr>\n",
       "    <tr>\n",
       "      <th>2</th>\n",
       "      <td>Algeria</td>\n",
       "    </tr>\n",
       "    <tr>\n",
       "      <th>3</th>\n",
       "      <td>American Samoa</td>\n",
       "    </tr>\n",
       "    <tr>\n",
       "      <th>4</th>\n",
       "      <td>Andorra</td>\n",
       "    </tr>\n",
       "    <tr>\n",
       "      <th>...</th>\n",
       "      <td>...</td>\n",
       "    </tr>\n",
       "    <tr>\n",
       "      <th>215</th>\n",
       "      <td>Virgin Islands</td>\n",
       "    </tr>\n",
       "    <tr>\n",
       "      <th>216</th>\n",
       "      <td>West Bank</td>\n",
       "    </tr>\n",
       "    <tr>\n",
       "      <th>217</th>\n",
       "      <td>Yemen</td>\n",
       "    </tr>\n",
       "    <tr>\n",
       "      <th>218</th>\n",
       "      <td>Zambia</td>\n",
       "    </tr>\n",
       "    <tr>\n",
       "      <th>219</th>\n",
       "      <td>Zimbabwe</td>\n",
       "    </tr>\n",
       "  </tbody>\n",
       "</table>\n",
       "<p>220 rows × 1 columns</p>\n",
       "</div>"
      ],
      "text/plain": [
       "            Country\n",
       "0       Afghanistan\n",
       "1           Albania\n",
       "2           Algeria\n",
       "3    American Samoa\n",
       "4           Andorra\n",
       "..              ...\n",
       "215  Virgin Islands\n",
       "216       West Bank\n",
       "217           Yemen\n",
       "218          Zambia\n",
       "219        Zimbabwe\n",
       "\n",
       "[220 rows x 1 columns]"
      ]
     },
     "execution_count": 54,
     "metadata": {},
     "output_type": "execute_result"
    }
   ],
   "source": [
    "#Creamos la clasificación con los valores originales del index\n",
    "classified_reserves = pd.Series(fj5.yb, index=theVar.index)\n",
    "\n",
    "# Llenamos con valores Nan para aquellas columbas que no tengan valores en Reserves\n",
    "# Usamos reindex para alinear con el índice original del DataFrame tf\n",
    "classified_reserves_reindexed = classified_reserves.reindex(tf.index)\n",
    "\n",
    "# Asignamos la Serie al DataFrame, especificando el tipo de dato Int64 para permitir NaN\n",
    "tf['Reserves_fj5'] = classified_reserves_reindexed.astype('Int64')\n",
    "\n",
    "#Creamos la nueva columna\n",
    "tf.loc[:,tf.columns.str.contains('tf|Coun')]"
   ]
  },
  {
   "cell_type": "code",
   "execution_count": 55,
   "metadata": {
    "colab": {
     "base_uri": "https://localhost:8080/",
     "height": 736
    },
    "id": "gYNFXv-8ZxwC",
    "outputId": "8aed1045-33d3-4029-fbc9-743a63a70b92"
   },
   "outputs": [
    {
     "name": "stderr",
     "output_type": "stream",
     "text": [
      "C:\\Users\\OMEN\\AppData\\Local\\Temp\\ipykernel_15104\\3323543892.py:10: SettingWithCopyWarning: \n",
      "A value is trying to be set on a copy of a slice from a DataFrame.\n",
      "Try using .loc[row_indexer,col_indexer] = value instead\n",
      "\n",
      "See the caveats in the documentation: https://pandas.pydata.org/pandas-docs/stable/user_guide/indexing.html#returning-a-view-versus-a-copy\n",
      "  tf[f'{col}_fj5'] = classified_col_reindexed.astype('Int64')\n",
      "C:\\Users\\OMEN\\AppData\\Local\\Temp\\ipykernel_15104\\3323543892.py:10: SettingWithCopyWarning: \n",
      "A value is trying to be set on a copy of a slice from a DataFrame.\n",
      "Try using .loc[row_indexer,col_indexer] = value instead\n",
      "\n",
      "See the caveats in the documentation: https://pandas.pydata.org/pandas-docs/stable/user_guide/indexing.html#returning-a-view-versus-a-copy\n",
      "  tf[f'{col}_fj5'] = classified_col_reindexed.astype('Int64')\n",
      "C:\\Users\\OMEN\\AppData\\Local\\Temp\\ipykernel_15104\\3323543892.py:10: SettingWithCopyWarning: \n",
      "A value is trying to be set on a copy of a slice from a DataFrame.\n",
      "Try using .loc[row_indexer,col_indexer] = value instead\n",
      "\n",
      "See the caveats in the documentation: https://pandas.pydata.org/pandas-docs/stable/user_guide/indexing.html#returning-a-view-versus-a-copy\n",
      "  tf[f'{col}_fj5'] = classified_col_reindexed.astype('Int64')\n"
     ]
    },
    {
     "data": {
      "text/html": [
       "<div>\n",
       "<style scoped>\n",
       "    .dataframe tbody tr th:only-of-type {\n",
       "        vertical-align: middle;\n",
       "    }\n",
       "\n",
       "    .dataframe tbody tr th {\n",
       "        vertical-align: top;\n",
       "    }\n",
       "\n",
       "    .dataframe thead th {\n",
       "        text-align: right;\n",
       "    }\n",
       "</style>\n",
       "<table border=\"1\" class=\"dataframe\">\n",
       "  <thead>\n",
       "    <tr style=\"text-align: right;\">\n",
       "      <th></th>\n",
       "      <th>Country</th>\n",
       "      <th>Reserves</th>\n",
       "      <th>Energy</th>\n",
       "      <th>Education</th>\n",
       "      <th>Electricity</th>\n",
       "      <th>Reserves_fj5</th>\n",
       "      <th>Energy_fj5</th>\n",
       "      <th>Electricity_fj5</th>\n",
       "      <th>Education_fj5</th>\n",
       "    </tr>\n",
       "  </thead>\n",
       "  <tbody>\n",
       "    <tr>\n",
       "      <th>0</th>\n",
       "      <td>Afghanistan</td>\n",
       "      <td>9.749000e+09</td>\n",
       "      <td>3380000.0</td>\n",
       "      <td>2.9</td>\n",
       "      <td>627000.0</td>\n",
       "      <td>0</td>\n",
       "      <td>0</td>\n",
       "      <td>0</td>\n",
       "      <td>1</td>\n",
       "    </tr>\n",
       "    <tr>\n",
       "      <th>1</th>\n",
       "      <td>Albania</td>\n",
       "      <td>6.455000e+09</td>\n",
       "      <td>27407000.0</td>\n",
       "      <td>3.1</td>\n",
       "      <td>2857000.0</td>\n",
       "      <td>0</td>\n",
       "      <td>0</td>\n",
       "      <td>0</td>\n",
       "      <td>1</td>\n",
       "    </tr>\n",
       "    <tr>\n",
       "      <th>2</th>\n",
       "      <td>Algeria</td>\n",
       "      <td>6.844800e+10</td>\n",
       "      <td>61843000.0</td>\n",
       "      <td>7.0</td>\n",
       "      <td>22591000.0</td>\n",
       "      <td>0</td>\n",
       "      <td>1</td>\n",
       "      <td>0</td>\n",
       "      <td>3</td>\n",
       "    </tr>\n",
       "    <tr>\n",
       "      <th>3</th>\n",
       "      <td>American Samoa</td>\n",
       "      <td>NaN</td>\n",
       "      <td>89105000.0</td>\n",
       "      <td>NaN</td>\n",
       "      <td>50000.0</td>\n",
       "      <td>&lt;NA&gt;</td>\n",
       "      <td>1</td>\n",
       "      <td>0</td>\n",
       "      <td>&lt;NA&gt;</td>\n",
       "    </tr>\n",
       "    <tr>\n",
       "      <th>4</th>\n",
       "      <td>Andorra</td>\n",
       "      <td>NaN</td>\n",
       "      <td>NaN</td>\n",
       "      <td>2.9</td>\n",
       "      <td>NaN</td>\n",
       "      <td>&lt;NA&gt;</td>\n",
       "      <td>&lt;NA&gt;</td>\n",
       "      <td>&lt;NA&gt;</td>\n",
       "      <td>1</td>\n",
       "    </tr>\n",
       "    <tr>\n",
       "      <th>...</th>\n",
       "      <td>...</td>\n",
       "      <td>...</td>\n",
       "      <td>...</td>\n",
       "      <td>...</td>\n",
       "      <td>...</td>\n",
       "      <td>...</td>\n",
       "      <td>...</td>\n",
       "      <td>...</td>\n",
       "      <td>...</td>\n",
       "    </tr>\n",
       "    <tr>\n",
       "      <th>215</th>\n",
       "      <td>Virgin Islands</td>\n",
       "      <td>NaN</td>\n",
       "      <td>NaN</td>\n",
       "      <td>NaN</td>\n",
       "      <td>326000.0</td>\n",
       "      <td>&lt;NA&gt;</td>\n",
       "      <td>&lt;NA&gt;</td>\n",
       "      <td>0</td>\n",
       "      <td>&lt;NA&gt;</td>\n",
       "    </tr>\n",
       "    <tr>\n",
       "      <th>216</th>\n",
       "      <td>West Bank</td>\n",
       "      <td>1.328000e+09</td>\n",
       "      <td>14991000.0</td>\n",
       "      <td>5.3</td>\n",
       "      <td>352000.0</td>\n",
       "      <td>0</td>\n",
       "      <td>0</td>\n",
       "      <td>0</td>\n",
       "      <td>2</td>\n",
       "    </tr>\n",
       "    <tr>\n",
       "      <th>217</th>\n",
       "      <td>Yemen</td>\n",
       "      <td>1.251000e+09</td>\n",
       "      <td>2987000.0</td>\n",
       "      <td>NaN</td>\n",
       "      <td>1790000.0</td>\n",
       "      <td>0</td>\n",
       "      <td>0</td>\n",
       "      <td>0</td>\n",
       "      <td>&lt;NA&gt;</td>\n",
       "    </tr>\n",
       "    <tr>\n",
       "      <th>218</th>\n",
       "      <td>Zambia</td>\n",
       "      <td>3.173000e+09</td>\n",
       "      <td>8265000.0</td>\n",
       "      <td>3.7</td>\n",
       "      <td>3986000.0</td>\n",
       "      <td>0</td>\n",
       "      <td>0</td>\n",
       "      <td>0</td>\n",
       "      <td>1</td>\n",
       "    </tr>\n",
       "    <tr>\n",
       "      <th>219</th>\n",
       "      <td>Zimbabwe</td>\n",
       "      <td>2.613730e+08</td>\n",
       "      <td>10855000.0</td>\n",
       "      <td>3.9</td>\n",
       "      <td>2491000.0</td>\n",
       "      <td>0</td>\n",
       "      <td>0</td>\n",
       "      <td>0</td>\n",
       "      <td>1</td>\n",
       "    </tr>\n",
       "  </tbody>\n",
       "</table>\n",
       "<p>220 rows × 9 columns</p>\n",
       "</div>"
      ],
      "text/plain": [
       "            Country      Reserves      Energy  Education  Electricity  \\\n",
       "0       Afghanistan  9.749000e+09   3380000.0        2.9     627000.0   \n",
       "1           Albania  6.455000e+09  27407000.0        3.1    2857000.0   \n",
       "2           Algeria  6.844800e+10  61843000.0        7.0   22591000.0   \n",
       "3    American Samoa           NaN  89105000.0        NaN      50000.0   \n",
       "4           Andorra           NaN         NaN        2.9          NaN   \n",
       "..              ...           ...         ...        ...          ...   \n",
       "215  Virgin Islands           NaN         NaN        NaN     326000.0   \n",
       "216       West Bank  1.328000e+09  14991000.0        5.3     352000.0   \n",
       "217           Yemen  1.251000e+09   2987000.0        NaN    1790000.0   \n",
       "218          Zambia  3.173000e+09   8265000.0        3.7    3986000.0   \n",
       "219        Zimbabwe  2.613730e+08  10855000.0        3.9    2491000.0   \n",
       "\n",
       "     Reserves_fj5  Energy_fj5  Electricity_fj5  Education_fj5  \n",
       "0               0           0                0              1  \n",
       "1               0           0                0              1  \n",
       "2               0           1                0              3  \n",
       "3            <NA>           1                0           <NA>  \n",
       "4            <NA>        <NA>             <NA>              1  \n",
       "..            ...         ...              ...            ...  \n",
       "215          <NA>        <NA>                0           <NA>  \n",
       "216             0           0                0              2  \n",
       "217             0           0                0           <NA>  \n",
       "218             0           0                0              1  \n",
       "219             0           0                0              1  \n",
       "\n",
       "[220 rows x 9 columns]"
      ]
     },
     "execution_count": 55,
     "metadata": {},
     "output_type": "execute_result"
    }
   ],
   "source": [
    "#Repetimos el proceso pero utilizaremos FisherJenks en las columnas restantes\n",
    "\n",
    "for col in ['Energy', 'Electricity', 'Education']:\n",
    "  theVar = tf[col]\n",
    "  theVar = theVar.dropna()\n",
    "  K = 5\n",
    "  fj5 = mapclassify.FisherJenks(theVar, k=K) # Use FisherJenks as requested\n",
    "  classified_col = pd.Series(fj5.yb, index=theVar.index)\n",
    "  classified_col_reindexed = classified_col.reindex(tf.index)\n",
    "  tf[f'{col}_fj5'] = classified_col_reindexed.astype('Int64')\n",
    "\n",
    "tf.loc[:, tf.columns.str.contains('Country|Reserves|Energy|Electricity|Education')]\n"
   ]
  },
  {
   "cell_type": "code",
   "execution_count": 56,
   "metadata": {
    "colab": {
     "base_uri": "https://localhost:8080/",
     "height": 206
    },
    "id": "_sheDTt6SQKK",
    "outputId": "f67abc3b-4f02-4765-bc66-4a902e03139a"
   },
   "outputs": [
    {
     "data": {
      "text/html": [
       "<div>\n",
       "<style scoped>\n",
       "    .dataframe tbody tr th:only-of-type {\n",
       "        vertical-align: middle;\n",
       "    }\n",
       "\n",
       "    .dataframe tbody tr th {\n",
       "        vertical-align: top;\n",
       "    }\n",
       "\n",
       "    .dataframe thead th {\n",
       "        text-align: right;\n",
       "    }\n",
       "</style>\n",
       "<table border=\"1\" class=\"dataframe\">\n",
       "  <thead>\n",
       "    <tr style=\"text-align: right;\">\n",
       "      <th></th>\n",
       "      <th>Country</th>\n",
       "      <th>Region</th>\n",
       "      <th>Reserves</th>\n",
       "      <th>Reserves_fj5</th>\n",
       "      <th>Energy</th>\n",
       "      <th>Energy_fj5</th>\n",
       "      <th>Electricity</th>\n",
       "      <th>Electricity_fj5</th>\n",
       "      <th>Education</th>\n",
       "      <th>Education_fj5</th>\n",
       "    </tr>\n",
       "  </thead>\n",
       "  <tbody>\n",
       "    <tr>\n",
       "      <th>0</th>\n",
       "      <td>Afghanistan</td>\n",
       "      <td>South Asia</td>\n",
       "      <td>9.749000e+09</td>\n",
       "      <td>0</td>\n",
       "      <td>3380000.0</td>\n",
       "      <td>0</td>\n",
       "      <td>627000.0</td>\n",
       "      <td>0</td>\n",
       "      <td>2.9</td>\n",
       "      <td>1</td>\n",
       "    </tr>\n",
       "    <tr>\n",
       "      <th>1</th>\n",
       "      <td>Albania</td>\n",
       "      <td>Europe</td>\n",
       "      <td>6.455000e+09</td>\n",
       "      <td>0</td>\n",
       "      <td>27407000.0</td>\n",
       "      <td>0</td>\n",
       "      <td>2857000.0</td>\n",
       "      <td>0</td>\n",
       "      <td>3.1</td>\n",
       "      <td>1</td>\n",
       "    </tr>\n",
       "    <tr>\n",
       "      <th>2</th>\n",
       "      <td>Algeria</td>\n",
       "      <td>Africa</td>\n",
       "      <td>6.844800e+10</td>\n",
       "      <td>0</td>\n",
       "      <td>61843000.0</td>\n",
       "      <td>1</td>\n",
       "      <td>22591000.0</td>\n",
       "      <td>0</td>\n",
       "      <td>7.0</td>\n",
       "      <td>3</td>\n",
       "    </tr>\n",
       "    <tr>\n",
       "      <th>3</th>\n",
       "      <td>American Samoa</td>\n",
       "      <td>Australia and Oceania</td>\n",
       "      <td>NaN</td>\n",
       "      <td>&lt;NA&gt;</td>\n",
       "      <td>89105000.0</td>\n",
       "      <td>1</td>\n",
       "      <td>50000.0</td>\n",
       "      <td>0</td>\n",
       "      <td>NaN</td>\n",
       "      <td>&lt;NA&gt;</td>\n",
       "    </tr>\n",
       "    <tr>\n",
       "      <th>4</th>\n",
       "      <td>Andorra</td>\n",
       "      <td>Europe</td>\n",
       "      <td>NaN</td>\n",
       "      <td>&lt;NA&gt;</td>\n",
       "      <td>NaN</td>\n",
       "      <td>&lt;NA&gt;</td>\n",
       "      <td>NaN</td>\n",
       "      <td>&lt;NA&gt;</td>\n",
       "      <td>2.9</td>\n",
       "      <td>1</td>\n",
       "    </tr>\n",
       "  </tbody>\n",
       "</table>\n",
       "</div>"
      ],
      "text/plain": [
       "          Country                 Region      Reserves  Reserves_fj5  \\\n",
       "0     Afghanistan             South Asia  9.749000e+09             0   \n",
       "1         Albania                 Europe  6.455000e+09             0   \n",
       "2         Algeria                 Africa  6.844800e+10             0   \n",
       "3  American Samoa  Australia and Oceania           NaN          <NA>   \n",
       "4         Andorra                 Europe           NaN          <NA>   \n",
       "\n",
       "       Energy  Energy_fj5  Electricity  Electricity_fj5  Education  \\\n",
       "0   3380000.0           0     627000.0                0        2.9   \n",
       "1  27407000.0           0    2857000.0                0        3.1   \n",
       "2  61843000.0           1   22591000.0                0        7.0   \n",
       "3  89105000.0           1      50000.0                0        NaN   \n",
       "4         NaN        <NA>          NaN             <NA>        2.9   \n",
       "\n",
       "   Education_fj5  \n",
       "0              1  \n",
       "1              1  \n",
       "2              3  \n",
       "3           <NA>  \n",
       "4              1  "
      ]
     },
     "execution_count": 56,
     "metadata": {},
     "output_type": "execute_result"
    }
   ],
   "source": [
    "# Definimos listas para organizar las columnas\n",
    "cols = tf.columns.tolist()\n",
    "numerical_cols = ['Reserves', 'Energy', 'Electricity', 'Education']\n",
    "interval_cols = ['Reserves_fj5', 'Energy_fj5', 'Electricity_fj5', 'Education_fj5']\n",
    "\n",
    "# Creamos una nueva lista de orden de columnas, intercalando las columnas numéricas y sus intervalos después de 'Country' y 'Region'\n",
    "new_order = ['Country', 'Region']\n",
    "for num_col, interval_col in zip(numerical_cols, interval_cols):\n",
    "  new_order.append(num_col)\n",
    "  new_order.append(interval_col)\n",
    "\n",
    "# Redefinimos tf con el nuevo orden\n",
    "tf = tf[new_order]\n",
    "\n",
    "# Revisamos como quedó el DataFrame\n",
    "tf.head()"
   ]
  },
  {
   "cell_type": "code",
   "execution_count": 57,
   "metadata": {
    "id": "IBWHDvcMSaxx"
   },
   "outputs": [],
   "source": [
    "# Finalemente, guardamos el DataFrame final 'tf' en un archivo CSV\n",
    "tf.to_csv('final_data.csv', index=False)"
   ]
  }
 ],
 "metadata": {
  "colab": {
   "provenance": []
  },
  "kernelspec": {
   "display_name": "Python 3 (ipykernel)",
   "language": "python",
   "name": "python3"
  },
  "language_info": {
   "codemirror_mode": {
    "name": "ipython",
    "version": 3
   },
   "file_extension": ".py",
   "mimetype": "text/x-python",
   "name": "python",
   "nbconvert_exporter": "python",
   "pygments_lexer": "ipython3",
   "version": "3.11.11"
  }
 },
 "nbformat": 4,
 "nbformat_minor": 4
}
